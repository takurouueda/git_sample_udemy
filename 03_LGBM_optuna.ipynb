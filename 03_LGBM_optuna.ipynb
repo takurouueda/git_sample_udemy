{
 "cells": [
  {
   "cell_type": "code",
   "execution_count": 34,
   "id": "2557aa86-430b-44af-af97-f32f04712869",
   "metadata": {
    "tags": []
   },
   "outputs": [],
   "source": [
    "import pandas as pd\n",
    "import numpy as np\n",
    "import matplotlib.pyplot as plt\n",
    "import seaborn as sns\n",
    "import polars as pl\n",
    "from datetime import datetime, timedelta\n",
    "\n",
    "import os\n",
    "\n",
    "from sklearn.model_selection import train_test_split\n",
    "from sklearn.preprocessing import LabelEncoder\n",
    "from sklearn.metrics import accuracy_score\n",
    "from sklearn.metrics import f1_score \n",
    "\n",
    "import lightgbm as lgb\n",
    "from optuna.integration import lightgbm as opt_lgb"
   ]
  },
  {
   "cell_type": "code",
   "execution_count": 35,
   "id": "29390869-1a16-49e1-91c9-2e4ca4905148",
   "metadata": {
    "tags": []
   },
   "outputs": [],
   "source": [
    "dtype_list = {\n",
    "    'Term':'int64',\n",
    "    'NoEmp':'int64', \n",
    "    'NewExist':'object', \n",
    "    'CreateJob':'int64', \n",
    "    'RetainedJob':'int64',\n",
    "    'FranchiseCode':'object', \n",
    "    'RevLineCr':'object', \n",
    "    'LowDoc':'object', \n",
    "    'DisbursementDate':'object',\n",
    "    'MIS_Status':'int32', \n",
    "    'Sector':'object', \n",
    "    'ApprovalDate':'object', \n",
    "    'ApprovalFY':'object', \n",
    "    'City':'object', \n",
    "    'State':'object',\n",
    "    'BankState':'object',\n",
    "    'DisbursementGross':'object',\n",
    "    'GrAppv':'object',\n",
    "    'SBA_Appv':'object',\n",
    "    'UrbanRural':'object'\n",
    "}"
   ]
  },
  {
   "cell_type": "code",
   "execution_count": 36,
   "id": "ae31e3c6-e8c4-45a1-862c-7f4560cbd28b",
   "metadata": {
    "tags": []
   },
   "outputs": [],
   "source": [
    "train_df = pd.read_csv(\"train.csv\", index_col=0, dtype=dtype_list)"
   ]
  },
  {
   "cell_type": "code",
   "execution_count": 37,
   "id": "849cf081-53af-4f79-a083-a4300f3cc0a8",
   "metadata": {
    "tags": []
   },
   "outputs": [
    {
     "data": {
      "text/plain": [
       "5"
      ]
     },
     "execution_count": 37,
     "metadata": {},
     "output_type": "execute_result"
    }
   ],
   "source": [
    "train_df.select_dtypes(include=\"number\").shape[1]"
   ]
  },
  {
   "cell_type": "code",
   "execution_count": 38,
   "id": "e6e68b06-a306-406c-af11-e2862dd8f0c8",
   "metadata": {
    "tags": []
   },
   "outputs": [],
   "source": [
    "# アセスメントするための関数\n",
    "def data_assessment(df):\n",
    "    print(f\"data_shape : {df.shape}\")\n",
    "    \n",
    "    assessment_df = pd.DataFrame({\"データ型\" : df.dtypes,\n",
    "                                  \"欠損値\" : df.isnull().sum(),\n",
    "                                  \"ユニーク数\" : df.nunique()})\n",
    "    \n",
    "    # すべてが文字型の場合\n",
    "    if df.select_dtypes(include=\"number\").shape[1] == 0:\n",
    "        # 文字型：count, top, feq, min\n",
    "        assessment_str_df = df.describe().T.drop(\"unique\", axis=1).rename(columns={\"top\":\"max\"})\n",
    "        assessment_str_df[\"min\"] = df.min()\n",
    "        assessment_df = pd.merge(assessment_df, assessment_str_df, how=\"inner\", left_index=True, right_index=True)\n",
    "    \n",
    "    # すべてが数値型型の場合\n",
    "    elif df.select_dtypes(include=[\"object\", \"category\"]).shape[1] == 0:\n",
    "        # 数値型：count, mean, std, min, max\n",
    "        assessment_num_df = df.select_dtypes(include=\"number\").describe().T[[\"count\", \"mean\", \"std\", \"min\", \"max\"]]\n",
    "        assessment_df = pd.merge(assessment_df, assessment_num_df, how=\"inner\", left_index=True, right_index=True)\n",
    "    \n",
    "    else:\n",
    "        # 文字型：count, top, feq, min\n",
    "        assessment_str_df = df.select_dtypes(include=[\"object\", \"category\"]).describe().T.drop(\"unique\", axis=1).rename(columns={\"top\":\"max\"})\n",
    "        assessment_str_df[\"min\"] = df.select_dtypes(include=\"object\").min()\n",
    "        # 数値型：count, mean, std, min, max\n",
    "        assessment_num_df = df.select_dtypes(include=\"number\").describe().T[[\"count\", \"mean\", \"std\", \"min\", \"max\"]]\n",
    "        \n",
    "        assessment_df = pd.merge(assessment_df, pd.concat([assessment_str_df, assessment_num_df]), \\\n",
    "                             how=\"inner\", left_index=True, right_index=True)\n",
    "    \n",
    "    return assessment_df"
   ]
  },
  {
   "cell_type": "code",
   "execution_count": 39,
   "id": "7e2b1a39-9115-49bc-bd7c-db3d5731dfac",
   "metadata": {
    "tags": []
   },
   "outputs": [
    {
     "data": {
      "text/plain": [
       "['NewExist',\n",
       " 'FranchiseCode',\n",
       " 'RevLineCr',\n",
       " 'LowDoc',\n",
       " 'DisbursementDate',\n",
       " 'Sector',\n",
       " 'ApprovalDate',\n",
       " 'ApprovalFY',\n",
       " 'City',\n",
       " 'State',\n",
       " 'BankState',\n",
       " 'DisbursementGross',\n",
       " 'GrAppv',\n",
       " 'SBA_Appv',\n",
       " 'UrbanRural']"
      ]
     },
     "execution_count": 39,
     "metadata": {},
     "output_type": "execute_result"
    }
   ],
   "source": [
    "list(train_df.select_dtypes(include=\"object\").columns)"
   ]
  },
  {
   "cell_type": "code",
   "execution_count": 40,
   "id": "33e88247-8afe-409a-87f6-ef216c6349c3",
   "metadata": {
    "tags": []
   },
   "outputs": [
    {
     "name": "stdout",
     "output_type": "stream",
     "text": [
      "data_shape : (42307, 20)\n"
     ]
    },
    {
     "name": "stderr",
     "output_type": "stream",
     "text": [
      "C:\\Users\\takum\\AppData\\Local\\Temp\\ipykernel_9680\\3435926937.py:25: FutureWarning: The default value of numeric_only in DataFrame.min is deprecated. In a future version, it will default to False. In addition, specifying 'numeric_only=None' is deprecated. Select only valid columns or specify the value of numeric_only to silence this warning.\n",
      "  assessment_str_df[\"min\"] = df.select_dtypes(include=\"object\").min()\n"
     ]
    },
    {
     "data": {
      "text/html": [
       "<div>\n",
       "<style scoped>\n",
       "    .dataframe tbody tr th:only-of-type {\n",
       "        vertical-align: middle;\n",
       "    }\n",
       "\n",
       "    .dataframe tbody tr th {\n",
       "        vertical-align: top;\n",
       "    }\n",
       "\n",
       "    .dataframe thead th {\n",
       "        text-align: right;\n",
       "    }\n",
       "</style>\n",
       "<table border=\"1\" class=\"dataframe\">\n",
       "  <thead>\n",
       "    <tr style=\"text-align: right;\">\n",
       "      <th></th>\n",
       "      <th>データ型</th>\n",
       "      <th>欠損値</th>\n",
       "      <th>ユニーク数</th>\n",
       "      <th>count</th>\n",
       "      <th>max</th>\n",
       "      <th>freq</th>\n",
       "      <th>min</th>\n",
       "      <th>mean</th>\n",
       "      <th>std</th>\n",
       "    </tr>\n",
       "  </thead>\n",
       "  <tbody>\n",
       "    <tr>\n",
       "      <th>Term</th>\n",
       "      <td>int64</td>\n",
       "      <td>0</td>\n",
       "      <td>228</td>\n",
       "      <td>42307.0</td>\n",
       "      <td>360.0</td>\n",
       "      <td>NaN</td>\n",
       "      <td>0.0</td>\n",
       "      <td>108.601673</td>\n",
       "      <td>84.569847</td>\n",
       "    </tr>\n",
       "    <tr>\n",
       "      <th>NoEmp</th>\n",
       "      <td>int64</td>\n",
       "      <td>0</td>\n",
       "      <td>196</td>\n",
       "      <td>42307.0</td>\n",
       "      <td>202.0</td>\n",
       "      <td>NaN</td>\n",
       "      <td>0.0</td>\n",
       "      <td>9.704304</td>\n",
       "      <td>17.488022</td>\n",
       "    </tr>\n",
       "    <tr>\n",
       "      <th>NewExist</th>\n",
       "      <td>object</td>\n",
       "      <td>0</td>\n",
       "      <td>2</td>\n",
       "      <td>42307</td>\n",
       "      <td>1.0</td>\n",
       "      <td>33405</td>\n",
       "      <td>1.0</td>\n",
       "      <td>NaN</td>\n",
       "      <td>NaN</td>\n",
       "    </tr>\n",
       "    <tr>\n",
       "      <th>CreateJob</th>\n",
       "      <td>int64</td>\n",
       "      <td>0</td>\n",
       "      <td>49</td>\n",
       "      <td>42307.0</td>\n",
       "      <td>70.0</td>\n",
       "      <td>NaN</td>\n",
       "      <td>0.0</td>\n",
       "      <td>2.183728</td>\n",
       "      <td>5.093980</td>\n",
       "    </tr>\n",
       "    <tr>\n",
       "      <th>RetainedJob</th>\n",
       "      <td>int64</td>\n",
       "      <td>0</td>\n",
       "      <td>83</td>\n",
       "      <td>42307.0</td>\n",
       "      <td>140.0</td>\n",
       "      <td>NaN</td>\n",
       "      <td>0.0</td>\n",
       "      <td>3.478148</td>\n",
       "      <td>8.113648</td>\n",
       "    </tr>\n",
       "    <tr>\n",
       "      <th>FranchiseCode</th>\n",
       "      <td>object</td>\n",
       "      <td>0</td>\n",
       "      <td>271</td>\n",
       "      <td>42307</td>\n",
       "      <td>0</td>\n",
       "      <td>26392</td>\n",
       "      <td>0</td>\n",
       "      <td>NaN</td>\n",
       "      <td>NaN</td>\n",
       "    </tr>\n",
       "    <tr>\n",
       "      <th>RevLineCr</th>\n",
       "      <td>object</td>\n",
       "      <td>1079</td>\n",
       "      <td>4</td>\n",
       "      <td>41228</td>\n",
       "      <td>N</td>\n",
       "      <td>27618</td>\n",
       "      <td>NaN</td>\n",
       "      <td>NaN</td>\n",
       "      <td>NaN</td>\n",
       "    </tr>\n",
       "    <tr>\n",
       "      <th>LowDoc</th>\n",
       "      <td>object</td>\n",
       "      <td>531</td>\n",
       "      <td>6</td>\n",
       "      <td>41776</td>\n",
       "      <td>N</td>\n",
       "      <td>34313</td>\n",
       "      <td>NaN</td>\n",
       "      <td>NaN</td>\n",
       "      <td>NaN</td>\n",
       "    </tr>\n",
       "    <tr>\n",
       "      <th>DisbursementDate</th>\n",
       "      <td>object</td>\n",
       "      <td>150</td>\n",
       "      <td>916</td>\n",
       "      <td>42157</td>\n",
       "      <td>30-Nov-03</td>\n",
       "      <td>1634</td>\n",
       "      <td>NaN</td>\n",
       "      <td>NaN</td>\n",
       "      <td>NaN</td>\n",
       "    </tr>\n",
       "    <tr>\n",
       "      <th>MIS_Status</th>\n",
       "      <td>int32</td>\n",
       "      <td>0</td>\n",
       "      <td>2</td>\n",
       "      <td>42307.0</td>\n",
       "      <td>1.0</td>\n",
       "      <td>NaN</td>\n",
       "      <td>0.0</td>\n",
       "      <td>0.892689</td>\n",
       "      <td>0.309512</td>\n",
       "    </tr>\n",
       "    <tr>\n",
       "      <th>Sector</th>\n",
       "      <td>object</td>\n",
       "      <td>0</td>\n",
       "      <td>24</td>\n",
       "      <td>42307</td>\n",
       "      <td>0</td>\n",
       "      <td>9798</td>\n",
       "      <td>0</td>\n",
       "      <td>NaN</td>\n",
       "      <td>NaN</td>\n",
       "    </tr>\n",
       "    <tr>\n",
       "      <th>ApprovalDate</th>\n",
       "      <td>object</td>\n",
       "      <td>0</td>\n",
       "      <td>3868</td>\n",
       "      <td>42307</td>\n",
       "      <td>7-Oct-03</td>\n",
       "      <td>1347</td>\n",
       "      <td>1-Apr-02</td>\n",
       "      <td>NaN</td>\n",
       "      <td>NaN</td>\n",
       "    </tr>\n",
       "    <tr>\n",
       "      <th>ApprovalFY</th>\n",
       "      <td>object</td>\n",
       "      <td>0</td>\n",
       "      <td>38</td>\n",
       "      <td>42307</td>\n",
       "      <td>2004</td>\n",
       "      <td>4708</td>\n",
       "      <td>1974</td>\n",
       "      <td>NaN</td>\n",
       "      <td>NaN</td>\n",
       "    </tr>\n",
       "    <tr>\n",
       "      <th>City</th>\n",
       "      <td>object</td>\n",
       "      <td>0</td>\n",
       "      <td>2703</td>\n",
       "      <td>42307</td>\n",
       "      <td>HOUSTON</td>\n",
       "      <td>1220</td>\n",
       "      <td>ABBEVILLE</td>\n",
       "      <td>NaN</td>\n",
       "      <td>NaN</td>\n",
       "    </tr>\n",
       "    <tr>\n",
       "      <th>State</th>\n",
       "      <td>object</td>\n",
       "      <td>0</td>\n",
       "      <td>51</td>\n",
       "      <td>42307</td>\n",
       "      <td>CA</td>\n",
       "      <td>6893</td>\n",
       "      <td>AK</td>\n",
       "      <td>NaN</td>\n",
       "      <td>NaN</td>\n",
       "    </tr>\n",
       "    <tr>\n",
       "      <th>BankState</th>\n",
       "      <td>object</td>\n",
       "      <td>11</td>\n",
       "      <td>51</td>\n",
       "      <td>42296</td>\n",
       "      <td>CA</td>\n",
       "      <td>6476</td>\n",
       "      <td>NaN</td>\n",
       "      <td>NaN</td>\n",
       "      <td>NaN</td>\n",
       "    </tr>\n",
       "    <tr>\n",
       "      <th>DisbursementGross</th>\n",
       "      <td>object</td>\n",
       "      <td>0</td>\n",
       "      <td>2694</td>\n",
       "      <td>42307</td>\n",
       "      <td>$100,000.00</td>\n",
       "      <td>2773</td>\n",
       "      <td>$1,000,000.00</td>\n",
       "      <td>NaN</td>\n",
       "      <td>NaN</td>\n",
       "    </tr>\n",
       "    <tr>\n",
       "      <th>GrAppv</th>\n",
       "      <td>object</td>\n",
       "      <td>0</td>\n",
       "      <td>1425</td>\n",
       "      <td>42307</td>\n",
       "      <td>$100,000.00</td>\n",
       "      <td>3257</td>\n",
       "      <td>$1,000,000.00</td>\n",
       "      <td>NaN</td>\n",
       "      <td>NaN</td>\n",
       "    </tr>\n",
       "    <tr>\n",
       "      <th>SBA_Appv</th>\n",
       "      <td>object</td>\n",
       "      <td>0</td>\n",
       "      <td>2005</td>\n",
       "      <td>42307</td>\n",
       "      <td>$25,000.00</td>\n",
       "      <td>2382</td>\n",
       "      <td>$1,000,000.00</td>\n",
       "      <td>NaN</td>\n",
       "      <td>NaN</td>\n",
       "    </tr>\n",
       "    <tr>\n",
       "      <th>UrbanRural</th>\n",
       "      <td>object</td>\n",
       "      <td>0</td>\n",
       "      <td>3</td>\n",
       "      <td>42307</td>\n",
       "      <td>0</td>\n",
       "      <td>24037</td>\n",
       "      <td>0</td>\n",
       "      <td>NaN</td>\n",
       "      <td>NaN</td>\n",
       "    </tr>\n",
       "  </tbody>\n",
       "</table>\n",
       "</div>"
      ],
      "text/plain": [
       "                     データ型   欠損値  ユニーク数    count           max   freq  \\\n",
       "Term                int64     0    228  42307.0         360.0    NaN   \n",
       "NoEmp               int64     0    196  42307.0         202.0    NaN   \n",
       "NewExist           object     0      2    42307           1.0  33405   \n",
       "CreateJob           int64     0     49  42307.0          70.0    NaN   \n",
       "RetainedJob         int64     0     83  42307.0         140.0    NaN   \n",
       "FranchiseCode      object     0    271    42307             0  26392   \n",
       "RevLineCr          object  1079      4    41228             N  27618   \n",
       "LowDoc             object   531      6    41776             N  34313   \n",
       "DisbursementDate   object   150    916    42157     30-Nov-03   1634   \n",
       "MIS_Status          int32     0      2  42307.0           1.0    NaN   \n",
       "Sector             object     0     24    42307             0   9798   \n",
       "ApprovalDate       object     0   3868    42307      7-Oct-03   1347   \n",
       "ApprovalFY         object     0     38    42307          2004   4708   \n",
       "City               object     0   2703    42307       HOUSTON   1220   \n",
       "State              object     0     51    42307            CA   6893   \n",
       "BankState          object    11     51    42296            CA   6476   \n",
       "DisbursementGross  object     0   2694    42307  $100,000.00    2773   \n",
       "GrAppv             object     0   1425    42307  $100,000.00    3257   \n",
       "SBA_Appv           object     0   2005    42307   $25,000.00    2382   \n",
       "UrbanRural         object     0      3    42307             0  24037   \n",
       "\n",
       "                              min        mean        std  \n",
       "Term                          0.0  108.601673  84.569847  \n",
       "NoEmp                         0.0    9.704304  17.488022  \n",
       "NewExist                      1.0         NaN        NaN  \n",
       "CreateJob                     0.0    2.183728   5.093980  \n",
       "RetainedJob                   0.0    3.478148   8.113648  \n",
       "FranchiseCode                   0         NaN        NaN  \n",
       "RevLineCr                     NaN         NaN        NaN  \n",
       "LowDoc                        NaN         NaN        NaN  \n",
       "DisbursementDate              NaN         NaN        NaN  \n",
       "MIS_Status                    0.0    0.892689   0.309512  \n",
       "Sector                          0         NaN        NaN  \n",
       "ApprovalDate             1-Apr-02         NaN        NaN  \n",
       "ApprovalFY                   1974         NaN        NaN  \n",
       "City                    ABBEVILLE         NaN        NaN  \n",
       "State                          AK         NaN        NaN  \n",
       "BankState                     NaN         NaN        NaN  \n",
       "DisbursementGross  $1,000,000.00          NaN        NaN  \n",
       "GrAppv             $1,000,000.00          NaN        NaN  \n",
       "SBA_Appv           $1,000,000.00          NaN        NaN  \n",
       "UrbanRural                      0         NaN        NaN  "
      ]
     },
     "metadata": {},
     "output_type": "display_data"
    },
    {
     "data": {
      "text/html": [
       "<div>\n",
       "<style scoped>\n",
       "    .dataframe tbody tr th:only-of-type {\n",
       "        vertical-align: middle;\n",
       "    }\n",
       "\n",
       "    .dataframe tbody tr th {\n",
       "        vertical-align: top;\n",
       "    }\n",
       "\n",
       "    .dataframe thead th {\n",
       "        text-align: right;\n",
       "    }\n",
       "</style>\n",
       "<table border=\"1\" class=\"dataframe\">\n",
       "  <thead>\n",
       "    <tr style=\"text-align: right;\">\n",
       "      <th></th>\n",
       "      <th>Term</th>\n",
       "      <th>NoEmp</th>\n",
       "      <th>NewExist</th>\n",
       "      <th>CreateJob</th>\n",
       "      <th>RetainedJob</th>\n",
       "      <th>FranchiseCode</th>\n",
       "      <th>RevLineCr</th>\n",
       "      <th>LowDoc</th>\n",
       "      <th>DisbursementDate</th>\n",
       "      <th>MIS_Status</th>\n",
       "      <th>Sector</th>\n",
       "      <th>ApprovalDate</th>\n",
       "      <th>ApprovalFY</th>\n",
       "      <th>City</th>\n",
       "      <th>State</th>\n",
       "      <th>BankState</th>\n",
       "      <th>DisbursementGross</th>\n",
       "      <th>GrAppv</th>\n",
       "      <th>SBA_Appv</th>\n",
       "      <th>UrbanRural</th>\n",
       "    </tr>\n",
       "  </thead>\n",
       "  <tbody>\n",
       "    <tr>\n",
       "      <th>0</th>\n",
       "      <td>163</td>\n",
       "      <td>21</td>\n",
       "      <td>1.0</td>\n",
       "      <td>0</td>\n",
       "      <td>0</td>\n",
       "      <td>1</td>\n",
       "      <td>N</td>\n",
       "      <td>N</td>\n",
       "      <td>31-Jan-98</td>\n",
       "      <td>1</td>\n",
       "      <td>0</td>\n",
       "      <td>22-Sep-06</td>\n",
       "      <td>2006</td>\n",
       "      <td>PHOENIX</td>\n",
       "      <td>AZ</td>\n",
       "      <td>SD</td>\n",
       "      <td>$80,000.00</td>\n",
       "      <td>$80,000.00</td>\n",
       "      <td>$68,000.00</td>\n",
       "      <td>0</td>\n",
       "    </tr>\n",
       "    <tr>\n",
       "      <th>1</th>\n",
       "      <td>84</td>\n",
       "      <td>6</td>\n",
       "      <td>1.0</td>\n",
       "      <td>4</td>\n",
       "      <td>0</td>\n",
       "      <td>0</td>\n",
       "      <td>0</td>\n",
       "      <td>N</td>\n",
       "      <td>31-Oct-93</td>\n",
       "      <td>1</td>\n",
       "      <td>62</td>\n",
       "      <td>30-Jun-92</td>\n",
       "      <td>1992</td>\n",
       "      <td>MCALESTER</td>\n",
       "      <td>OK</td>\n",
       "      <td>OK</td>\n",
       "      <td>$287,000.00</td>\n",
       "      <td>$287,000.00</td>\n",
       "      <td>$229,600.00</td>\n",
       "      <td>0</td>\n",
       "    </tr>\n",
       "    <tr>\n",
       "      <th>2</th>\n",
       "      <td>242</td>\n",
       "      <td>45</td>\n",
       "      <td>1.0</td>\n",
       "      <td>4</td>\n",
       "      <td>90</td>\n",
       "      <td>0</td>\n",
       "      <td>N</td>\n",
       "      <td>N</td>\n",
       "      <td>31-Aug-01</td>\n",
       "      <td>1</td>\n",
       "      <td>42</td>\n",
       "      <td>18-Apr-01</td>\n",
       "      <td>2001</td>\n",
       "      <td>HAWTHORNE</td>\n",
       "      <td>NJ</td>\n",
       "      <td>NJ</td>\n",
       "      <td>$31,983.00</td>\n",
       "      <td>$30,000.00</td>\n",
       "      <td>$15,000.00</td>\n",
       "      <td>1</td>\n",
       "    </tr>\n",
       "  </tbody>\n",
       "</table>\n",
       "</div>"
      ],
      "text/plain": [
       "   Term  NoEmp NewExist  CreateJob  RetainedJob FranchiseCode RevLineCr  \\\n",
       "0   163     21      1.0          0            0             1         N   \n",
       "1    84      6      1.0          4            0             0         0   \n",
       "2   242     45      1.0          4           90             0         N   \n",
       "\n",
       "  LowDoc DisbursementDate  MIS_Status Sector ApprovalDate ApprovalFY  \\\n",
       "0      N        31-Jan-98           1      0    22-Sep-06       2006   \n",
       "1      N        31-Oct-93           1     62    30-Jun-92       1992   \n",
       "2      N        31-Aug-01           1     42    18-Apr-01       2001   \n",
       "\n",
       "        City State BankState DisbursementGross        GrAppv      SBA_Appv  \\\n",
       "0    PHOENIX    AZ        SD       $80,000.00    $80,000.00    $68,000.00    \n",
       "1  MCALESTER    OK        OK      $287,000.00   $287,000.00   $229,600.00    \n",
       "2  HAWTHORNE    NJ        NJ       $31,983.00    $30,000.00    $15,000.00    \n",
       "\n",
       "  UrbanRural  \n",
       "0          0  \n",
       "1          0  \n",
       "2          1  "
      ]
     },
     "metadata": {},
     "output_type": "display_data"
    }
   ],
   "source": [
    "exec(f\"display(data_assessment(train_df))\")\n",
    "exec(f\"display(train_df.head(3))\")"
   ]
  },
  {
   "cell_type": "code",
   "execution_count": 41,
   "id": "39605604-803f-4ca9-b934-1ef75c7c0d16",
   "metadata": {
    "tags": []
   },
   "outputs": [],
   "source": [
    "test_df = pd.read_csv(\"test.csv\", index_col=0, dtype=dtype_list)"
   ]
  },
  {
   "cell_type": "code",
   "execution_count": 42,
   "id": "e73efbfe-7ec3-433c-9d2d-e54c0e9072c9",
   "metadata": {
    "tags": []
   },
   "outputs": [
    {
     "name": "stdout",
     "output_type": "stream",
     "text": [
      "data_shape : (42308, 19)\n"
     ]
    },
    {
     "name": "stderr",
     "output_type": "stream",
     "text": [
      "C:\\Users\\takum\\AppData\\Local\\Temp\\ipykernel_9680\\3435926937.py:25: FutureWarning: The default value of numeric_only in DataFrame.min is deprecated. In a future version, it will default to False. In addition, specifying 'numeric_only=None' is deprecated. Select only valid columns or specify the value of numeric_only to silence this warning.\n",
      "  assessment_str_df[\"min\"] = df.select_dtypes(include=\"object\").min()\n"
     ]
    },
    {
     "data": {
      "text/html": [
       "<div>\n",
       "<style scoped>\n",
       "    .dataframe tbody tr th:only-of-type {\n",
       "        vertical-align: middle;\n",
       "    }\n",
       "\n",
       "    .dataframe tbody tr th {\n",
       "        vertical-align: top;\n",
       "    }\n",
       "\n",
       "    .dataframe thead th {\n",
       "        text-align: right;\n",
       "    }\n",
       "</style>\n",
       "<table border=\"1\" class=\"dataframe\">\n",
       "  <thead>\n",
       "    <tr style=\"text-align: right;\">\n",
       "      <th></th>\n",
       "      <th>データ型</th>\n",
       "      <th>欠損値</th>\n",
       "      <th>ユニーク数</th>\n",
       "      <th>count</th>\n",
       "      <th>max</th>\n",
       "      <th>freq</th>\n",
       "      <th>min</th>\n",
       "      <th>mean</th>\n",
       "      <th>std</th>\n",
       "    </tr>\n",
       "  </thead>\n",
       "  <tbody>\n",
       "    <tr>\n",
       "      <th>Term</th>\n",
       "      <td>int64</td>\n",
       "      <td>0</td>\n",
       "      <td>229</td>\n",
       "      <td>42308.0</td>\n",
       "      <td>360.0</td>\n",
       "      <td>NaN</td>\n",
       "      <td>0.0</td>\n",
       "      <td>108.515222</td>\n",
       "      <td>84.894703</td>\n",
       "    </tr>\n",
       "    <tr>\n",
       "      <th>NoEmp</th>\n",
       "      <td>int64</td>\n",
       "      <td>0</td>\n",
       "      <td>190</td>\n",
       "      <td>42308.0</td>\n",
       "      <td>208.0</td>\n",
       "      <td>NaN</td>\n",
       "      <td>0.0</td>\n",
       "      <td>9.694715</td>\n",
       "      <td>17.242651</td>\n",
       "    </tr>\n",
       "    <tr>\n",
       "      <th>NewExist</th>\n",
       "      <td>object</td>\n",
       "      <td>0</td>\n",
       "      <td>2</td>\n",
       "      <td>42308</td>\n",
       "      <td>1.0</td>\n",
       "      <td>33472</td>\n",
       "      <td>1.0</td>\n",
       "      <td>NaN</td>\n",
       "      <td>NaN</td>\n",
       "    </tr>\n",
       "    <tr>\n",
       "      <th>CreateJob</th>\n",
       "      <td>int64</td>\n",
       "      <td>0</td>\n",
       "      <td>49</td>\n",
       "      <td>42308.0</td>\n",
       "      <td>86.0</td>\n",
       "      <td>NaN</td>\n",
       "      <td>0.0</td>\n",
       "      <td>2.186560</td>\n",
       "      <td>5.131680</td>\n",
       "    </tr>\n",
       "    <tr>\n",
       "      <th>RetainedJob</th>\n",
       "      <td>int64</td>\n",
       "      <td>0</td>\n",
       "      <td>85</td>\n",
       "      <td>42308.0</td>\n",
       "      <td>175.0</td>\n",
       "      <td>NaN</td>\n",
       "      <td>0.0</td>\n",
       "      <td>3.499645</td>\n",
       "      <td>8.134499</td>\n",
       "    </tr>\n",
       "    <tr>\n",
       "      <th>FranchiseCode</th>\n",
       "      <td>object</td>\n",
       "      <td>0</td>\n",
       "      <td>271</td>\n",
       "      <td>42308</td>\n",
       "      <td>0</td>\n",
       "      <td>26458</td>\n",
       "      <td>0</td>\n",
       "      <td>NaN</td>\n",
       "      <td>NaN</td>\n",
       "    </tr>\n",
       "    <tr>\n",
       "      <th>RevLineCr</th>\n",
       "      <td>object</td>\n",
       "      <td>1041</td>\n",
       "      <td>4</td>\n",
       "      <td>41267</td>\n",
       "      <td>N</td>\n",
       "      <td>27829</td>\n",
       "      <td>NaN</td>\n",
       "      <td>NaN</td>\n",
       "      <td>NaN</td>\n",
       "    </tr>\n",
       "    <tr>\n",
       "      <th>LowDoc</th>\n",
       "      <td>object</td>\n",
       "      <td>520</td>\n",
       "      <td>6</td>\n",
       "      <td>41788</td>\n",
       "      <td>N</td>\n",
       "      <td>34360</td>\n",
       "      <td>NaN</td>\n",
       "      <td>NaN</td>\n",
       "      <td>NaN</td>\n",
       "    </tr>\n",
       "    <tr>\n",
       "      <th>DisbursementDate</th>\n",
       "      <td>object</td>\n",
       "      <td>160</td>\n",
       "      <td>915</td>\n",
       "      <td>42148</td>\n",
       "      <td>30-Nov-03</td>\n",
       "      <td>1627</td>\n",
       "      <td>NaN</td>\n",
       "      <td>NaN</td>\n",
       "      <td>NaN</td>\n",
       "    </tr>\n",
       "    <tr>\n",
       "      <th>Sector</th>\n",
       "      <td>object</td>\n",
       "      <td>0</td>\n",
       "      <td>24</td>\n",
       "      <td>42308</td>\n",
       "      <td>0</td>\n",
       "      <td>9821</td>\n",
       "      <td>0</td>\n",
       "      <td>NaN</td>\n",
       "      <td>NaN</td>\n",
       "    </tr>\n",
       "    <tr>\n",
       "      <th>ApprovalDate</th>\n",
       "      <td>object</td>\n",
       "      <td>0</td>\n",
       "      <td>3888</td>\n",
       "      <td>42308</td>\n",
       "      <td>7-Oct-03</td>\n",
       "      <td>1372</td>\n",
       "      <td>1-Apr-02</td>\n",
       "      <td>NaN</td>\n",
       "      <td>NaN</td>\n",
       "    </tr>\n",
       "    <tr>\n",
       "      <th>ApprovalFY</th>\n",
       "      <td>object</td>\n",
       "      <td>0</td>\n",
       "      <td>38</td>\n",
       "      <td>42308</td>\n",
       "      <td>2004</td>\n",
       "      <td>4685</td>\n",
       "      <td>1974</td>\n",
       "      <td>NaN</td>\n",
       "      <td>NaN</td>\n",
       "    </tr>\n",
       "    <tr>\n",
       "      <th>City</th>\n",
       "      <td>object</td>\n",
       "      <td>0</td>\n",
       "      <td>2678</td>\n",
       "      <td>42308</td>\n",
       "      <td>HOUSTON</td>\n",
       "      <td>1158</td>\n",
       "      <td>131 WEST 200 NORTH</td>\n",
       "      <td>NaN</td>\n",
       "      <td>NaN</td>\n",
       "    </tr>\n",
       "    <tr>\n",
       "      <th>State</th>\n",
       "      <td>object</td>\n",
       "      <td>0</td>\n",
       "      <td>51</td>\n",
       "      <td>42308</td>\n",
       "      <td>CA</td>\n",
       "      <td>6934</td>\n",
       "      <td>AK</td>\n",
       "      <td>NaN</td>\n",
       "      <td>NaN</td>\n",
       "    </tr>\n",
       "    <tr>\n",
       "      <th>BankState</th>\n",
       "      <td>object</td>\n",
       "      <td>16</td>\n",
       "      <td>52</td>\n",
       "      <td>42292</td>\n",
       "      <td>CA</td>\n",
       "      <td>6491</td>\n",
       "      <td>NaN</td>\n",
       "      <td>NaN</td>\n",
       "      <td>NaN</td>\n",
       "    </tr>\n",
       "    <tr>\n",
       "      <th>DisbursementGross</th>\n",
       "      <td>object</td>\n",
       "      <td>0</td>\n",
       "      <td>2659</td>\n",
       "      <td>42308</td>\n",
       "      <td>$100,000.00</td>\n",
       "      <td>2671</td>\n",
       "      <td>$1,000,000.00</td>\n",
       "      <td>NaN</td>\n",
       "      <td>NaN</td>\n",
       "    </tr>\n",
       "    <tr>\n",
       "      <th>GrAppv</th>\n",
       "      <td>object</td>\n",
       "      <td>0</td>\n",
       "      <td>1410</td>\n",
       "      <td>42308</td>\n",
       "      <td>$100,000.00</td>\n",
       "      <td>3158</td>\n",
       "      <td>$1,000,000.00</td>\n",
       "      <td>NaN</td>\n",
       "      <td>NaN</td>\n",
       "    </tr>\n",
       "    <tr>\n",
       "      <th>SBA_Appv</th>\n",
       "      <td>object</td>\n",
       "      <td>0</td>\n",
       "      <td>1992</td>\n",
       "      <td>42308</td>\n",
       "      <td>$25,000.00</td>\n",
       "      <td>2438</td>\n",
       "      <td>$1,000,000.00</td>\n",
       "      <td>NaN</td>\n",
       "      <td>NaN</td>\n",
       "    </tr>\n",
       "    <tr>\n",
       "      <th>UrbanRural</th>\n",
       "      <td>object</td>\n",
       "      <td>0</td>\n",
       "      <td>3</td>\n",
       "      <td>42308</td>\n",
       "      <td>0</td>\n",
       "      <td>24344</td>\n",
       "      <td>0</td>\n",
       "      <td>NaN</td>\n",
       "      <td>NaN</td>\n",
       "    </tr>\n",
       "  </tbody>\n",
       "</table>\n",
       "</div>"
      ],
      "text/plain": [
       "                     データ型   欠損値  ユニーク数    count           max   freq  \\\n",
       "Term                int64     0    229  42308.0         360.0    NaN   \n",
       "NoEmp               int64     0    190  42308.0         208.0    NaN   \n",
       "NewExist           object     0      2    42308           1.0  33472   \n",
       "CreateJob           int64     0     49  42308.0          86.0    NaN   \n",
       "RetainedJob         int64     0     85  42308.0         175.0    NaN   \n",
       "FranchiseCode      object     0    271    42308             0  26458   \n",
       "RevLineCr          object  1041      4    41267             N  27829   \n",
       "LowDoc             object   520      6    41788             N  34360   \n",
       "DisbursementDate   object   160    915    42148     30-Nov-03   1627   \n",
       "Sector             object     0     24    42308             0   9821   \n",
       "ApprovalDate       object     0   3888    42308      7-Oct-03   1372   \n",
       "ApprovalFY         object     0     38    42308          2004   4685   \n",
       "City               object     0   2678    42308       HOUSTON   1158   \n",
       "State              object     0     51    42308            CA   6934   \n",
       "BankState          object    16     52    42292            CA   6491   \n",
       "DisbursementGross  object     0   2659    42308  $100,000.00    2671   \n",
       "GrAppv             object     0   1410    42308  $100,000.00    3158   \n",
       "SBA_Appv           object     0   1992    42308   $25,000.00    2438   \n",
       "UrbanRural         object     0      3    42308             0  24344   \n",
       "\n",
       "                                  min        mean        std  \n",
       "Term                              0.0  108.515222  84.894703  \n",
       "NoEmp                             0.0    9.694715  17.242651  \n",
       "NewExist                          1.0         NaN        NaN  \n",
       "CreateJob                         0.0    2.186560   5.131680  \n",
       "RetainedJob                       0.0    3.499645   8.134499  \n",
       "FranchiseCode                       0         NaN        NaN  \n",
       "RevLineCr                         NaN         NaN        NaN  \n",
       "LowDoc                            NaN         NaN        NaN  \n",
       "DisbursementDate                  NaN         NaN        NaN  \n",
       "Sector                              0         NaN        NaN  \n",
       "ApprovalDate                 1-Apr-02         NaN        NaN  \n",
       "ApprovalFY                       1974         NaN        NaN  \n",
       "City               131 WEST 200 NORTH         NaN        NaN  \n",
       "State                              AK         NaN        NaN  \n",
       "BankState                         NaN         NaN        NaN  \n",
       "DisbursementGross      $1,000,000.00          NaN        NaN  \n",
       "GrAppv                 $1,000,000.00          NaN        NaN  \n",
       "SBA_Appv               $1,000,000.00          NaN        NaN  \n",
       "UrbanRural                          0         NaN        NaN  "
      ]
     },
     "metadata": {},
     "output_type": "display_data"
    },
    {
     "data": {
      "text/html": [
       "<div>\n",
       "<style scoped>\n",
       "    .dataframe tbody tr th:only-of-type {\n",
       "        vertical-align: middle;\n",
       "    }\n",
       "\n",
       "    .dataframe tbody tr th {\n",
       "        vertical-align: top;\n",
       "    }\n",
       "\n",
       "    .dataframe thead th {\n",
       "        text-align: right;\n",
       "    }\n",
       "</style>\n",
       "<table border=\"1\" class=\"dataframe\">\n",
       "  <thead>\n",
       "    <tr style=\"text-align: right;\">\n",
       "      <th></th>\n",
       "      <th>Term</th>\n",
       "      <th>NoEmp</th>\n",
       "      <th>NewExist</th>\n",
       "      <th>CreateJob</th>\n",
       "      <th>RetainedJob</th>\n",
       "      <th>FranchiseCode</th>\n",
       "      <th>RevLineCr</th>\n",
       "      <th>LowDoc</th>\n",
       "      <th>DisbursementDate</th>\n",
       "      <th>Sector</th>\n",
       "      <th>ApprovalDate</th>\n",
       "      <th>ApprovalFY</th>\n",
       "      <th>City</th>\n",
       "      <th>State</th>\n",
       "      <th>BankState</th>\n",
       "      <th>DisbursementGross</th>\n",
       "      <th>GrAppv</th>\n",
       "      <th>SBA_Appv</th>\n",
       "      <th>UrbanRural</th>\n",
       "    </tr>\n",
       "  </thead>\n",
       "  <tbody>\n",
       "    <tr>\n",
       "      <th>42307</th>\n",
       "      <td>5</td>\n",
       "      <td>2</td>\n",
       "      <td>1.0</td>\n",
       "      <td>1</td>\n",
       "      <td>0</td>\n",
       "      <td>0</td>\n",
       "      <td>T</td>\n",
       "      <td>N</td>\n",
       "      <td>31-Jul-04</td>\n",
       "      <td>23</td>\n",
       "      <td>6-Aug-07</td>\n",
       "      <td>2007</td>\n",
       "      <td>SUNNYVALE</td>\n",
       "      <td>CA</td>\n",
       "      <td>CA</td>\n",
       "      <td>$25,000.00</td>\n",
       "      <td>$25,000.00</td>\n",
       "      <td>$21,250.00</td>\n",
       "      <td>1</td>\n",
       "    </tr>\n",
       "    <tr>\n",
       "      <th>42308</th>\n",
       "      <td>235</td>\n",
       "      <td>13</td>\n",
       "      <td>1.0</td>\n",
       "      <td>9</td>\n",
       "      <td>14</td>\n",
       "      <td>77725</td>\n",
       "      <td>Y</td>\n",
       "      <td>N</td>\n",
       "      <td>11-Jan-95</td>\n",
       "      <td>44</td>\n",
       "      <td>8-Mar-04</td>\n",
       "      <td>2004</td>\n",
       "      <td>PITTSBURGH</td>\n",
       "      <td>PA</td>\n",
       "      <td>PA</td>\n",
       "      <td>$15,000.00</td>\n",
       "      <td>$15,000.00</td>\n",
       "      <td>$7,500.00</td>\n",
       "      <td>0</td>\n",
       "    </tr>\n",
       "    <tr>\n",
       "      <th>42309</th>\n",
       "      <td>31</td>\n",
       "      <td>5</td>\n",
       "      <td>2.0</td>\n",
       "      <td>0</td>\n",
       "      <td>0</td>\n",
       "      <td>0</td>\n",
       "      <td>N</td>\n",
       "      <td>NaN</td>\n",
       "      <td>NaN</td>\n",
       "      <td>56</td>\n",
       "      <td>27-Feb-07</td>\n",
       "      <td>2007</td>\n",
       "      <td>LITTLE ROCK</td>\n",
       "      <td>AR</td>\n",
       "      <td>AR</td>\n",
       "      <td>$28,000.00</td>\n",
       "      <td>$28,000.00</td>\n",
       "      <td>$23,800.00</td>\n",
       "      <td>1</td>\n",
       "    </tr>\n",
       "  </tbody>\n",
       "</table>\n",
       "</div>"
      ],
      "text/plain": [
       "       Term  NoEmp NewExist  CreateJob  RetainedJob FranchiseCode RevLineCr  \\\n",
       "42307     5      2      1.0          1            0             0         T   \n",
       "42308   235     13      1.0          9           14         77725         Y   \n",
       "42309    31      5      2.0          0            0             0         N   \n",
       "\n",
       "      LowDoc DisbursementDate Sector ApprovalDate ApprovalFY         City  \\\n",
       "42307      N        31-Jul-04     23     6-Aug-07       2007    SUNNYVALE   \n",
       "42308      N        11-Jan-95     44     8-Mar-04       2004   PITTSBURGH   \n",
       "42309    NaN              NaN     56    27-Feb-07       2007  LITTLE ROCK   \n",
       "\n",
       "      State BankState DisbursementGross       GrAppv     SBA_Appv UrbanRural  \n",
       "42307    CA        CA       $25,000.00   $25,000.00   $21,250.00           1  \n",
       "42308    PA        PA       $15,000.00   $15,000.00    $7,500.00           0  \n",
       "42309    AR        AR       $28,000.00   $28,000.00   $23,800.00           1  "
      ]
     },
     "metadata": {},
     "output_type": "display_data"
    }
   ],
   "source": [
    "exec(f\"display(data_assessment(test_df))\")\n",
    "exec(f\"display(test_df.head(3))\")"
   ]
  },
  {
   "cell_type": "markdown",
   "id": "e766b2fa-abf5-4e91-a384-2dced9b02262",
   "metadata": {},
   "source": [
    "## EDA"
   ]
  },
  {
   "cell_type": "code",
   "execution_count": 43,
   "id": "b7c66f8b-fd5f-43f3-97cd-826625999ec8",
   "metadata": {
    "tags": []
   },
   "outputs": [
    {
     "name": "stdout",
     "output_type": "stream",
     "text": [
      "1    37767\n",
      "0     4540\n",
      "Name: MIS_Status, dtype: int64\n"
     ]
    },
    {
     "data": {
      "text/plain": [
       "<Axes: xlabel='MIS_Status', ylabel='count'>"
      ]
     },
     "execution_count": 43,
     "metadata": {},
     "output_type": "execute_result"
    },
    {
     "data": {
      "image/png": "[encoded data removed]",
      "text/plain": [
       "<Figure size 640x480 with 1 Axes>"
      ]
     },
     "metadata": {},
     "output_type": "display_data"
    }
   ],
   "source": [
    "# カウントプロットの描画\n",
    "print(train_df[\"MIS_Status\"].value_counts())\n",
    "sns.countplot(x='MIS_Status', data=train_df)"
   ]
  },
  {
   "cell_type": "markdown",
   "id": "8fab8409-62db-4bf5-b4d4-c49e9a9595f5",
   "metadata": {},
   "source": [
    "## LGBM"
   ]
  },
  {
   "cell_type": "markdown",
   "id": "660ffe4f-56b7-4307-b19f-8f4aa1f74879",
   "metadata": {},
   "source": [
    "### 特徴量加工"
   ]
  },
  {
   "cell_type": "code",
   "execution_count": 88,
   "id": "b80adfbb-4e8c-4ef8-a348-8cf27c3731ef",
   "metadata": {
    "tags": []
   },
   "outputs": [],
   "source": [
    "use_x_col_list = [\n",
    "    'Term', \n",
    "    'NoEmp', \n",
    "    # 'NewExist', \n",
    "    'CreateJob', \n",
    "    'RetainedJob',\n",
    "    # 'FranchiseCode', \n",
    "    'RevLineCr', \n",
    "    'LowDoc', \n",
    "    'DisbursementDate',\n",
    "    'MIS_Status', \n",
    "    'Sector', \n",
    "    'ApprovalDate', \n",
    "    'ApprovalFY', \n",
    "    'City', \n",
    "    'State',\n",
    "    'BankState',\n",
    "    'DisbursementGross',\n",
    "    'GrAppv',\n",
    "    'SBA_Appv',\n",
    "    'UrbanRural', \n",
    "    'Approval_month',\n",
    "    'Disbursement_year', \n",
    "    'Disbursement_month'\n",
    "]"
   ]
  },
  {
   "cell_type": "code",
   "execution_count": 89,
   "id": "318cb5d1-407d-4b6c-b4ca-4b4330bf57a8",
   "metadata": {
    "tags": []
   },
   "outputs": [],
   "source": [
    "# ラベルエンコーディング\n",
    "def label_encording(data_col):\n",
    "    le = LabelEncoder()\n",
    "    le = le.fit(data_col)\n",
    "    data_col = le.transform(data_col)\n",
    "    return data_col"
   ]
  },
  {
   "cell_type": "code",
   "execution_count": 90,
   "id": "cfa70d7a-2cfb-44b6-bfb1-c8bbcae6dc05",
   "metadata": {
    "tags": []
   },
   "outputs": [],
   "source": [
    "# 日付を文字型に直す関数\n",
    "def convert_to_datetime(date_string):\n",
    "    if date_string == \"NULL\":\n",
    "        date_cur_obj = \"NULL\"\n",
    "    else:\n",
    "        # 日付文字列のフォーマットに合わせてパース\n",
    "        date_object = datetime.strptime(date_string, \"%d-%b-%y\")\n",
    "        # 年月日の順に並べ替え\n",
    "        date_cur_obj = datetime.strftime(date_object, \"%Y-%m-%d\")\n",
    "\n",
    "    return date_cur_obj"
   ]
  },
  {
   "cell_type": "code",
   "execution_count": 91,
   "id": "2b3b7f4f-3360-47dc-83ef-4e90fd8a6954",
   "metadata": {
    "tags": []
   },
   "outputs": [],
   "source": [
    "# 融資と承認どちらが早いか\n",
    "def disbursement_approval_dif(disbursement_day, approval_day):\n",
    "    if disbursement_day == \"NULL\" or approval_day == \"NULL\":\n",
    "        dif = \"NULL\"\n",
    "    else:\n",
    "        disbursement_day = datetime.strptime(disbursement_day, \"%d-%b-%y\")\n",
    "        approval_day = datetime.strptime(approval_day, \"%d-%b-%y\")\n",
    "        dif = str(int(disbursement_day > approval_day))\n",
    "    return dif"
   ]
  },
  {
   "cell_type": "code",
   "execution_count": 92,
   "id": "62b27f42-a5a5-40c9-849c-0f5d048cbcbf",
   "metadata": {
    "tags": []
   },
   "outputs": [],
   "source": [
    "# Sectorの前処理関数\n",
    "def sector_prepro(sector):\n",
    "    if sector in [\"31\", \"32\", \"33\"]:\n",
    "        re_sector = \"31\"\n",
    "    elif sector in [\"44\", \"45\"]:\n",
    "        re_sector = \"44\"\n",
    "    elif sector in [\"48\", \"49\"]:\n",
    "        re_sector = \"48\"\n",
    "    else:\n",
    "        re_sector = sector\n",
    "    return re_sector"
   ]
  },
  {
   "cell_type": "code",
   "execution_count": 113,
   "id": "1aa9cf52-df02-435c-966d-dfe1326147fb",
   "metadata": {
    "tags": []
   },
   "outputs": [],
   "source": [
    "# カテゴリ変数への変化と欠損値処理\n",
    "def preprocess(df):\n",
    "    df = df.drop([item for item in train_df.columns.values if item not in use_x_col_list], axis=1)\n",
    "    \n",
    "    # ドルマーク付きの金額表示を数値変換\n",
    "    df[\"DisbursementGross\"] = df[\"DisbursementGross\"].apply(lambda x: x[1:][:-4].replace(',', '')).astype(\"int64\")\n",
    "    df[\"GrAppv\"] = df[\"GrAppv\"].apply(lambda x: x[1:][:-4].replace(',', '')).astype(\"int64\")\n",
    "    df[\"SBA_Appv\"] = df[\"SBA_Appv\"].apply(lambda x: x[1:][:-4].replace(',', '')).astype(\"int64\")\n",
    "    \n",
    "    # 欠損値処理\n",
    "    for col_name in df:\n",
    "        if df[col_name].dtypes == object: # 欠損値に関してはNULLを代入する\n",
    "            df[col_name] = df[col_name].fillna(\"NULL\") \n",
    "        elif df[col_name].dtypes == ( \"int64\"  or  \"float64\") : # 欠損値に関しては-999999を代入する\n",
    "            df[col_name] = df[col_name].fillna(-99999)\n",
    "    \n",
    "    # 日付から年と月を抜粋\n",
    "    df[\"Approval_month\"] = df[\"ApprovalDate\"].apply(lambda x : convert_to_datetime(x)[5:7])\n",
    "    # df[\"Approval_day\"] = df[\"ApprovalDate\"].apply(lambda x : convert_to_datetime(x)[8:])\n",
    "    \n",
    "    df[\"Disbursement_year\"] = df[\"DisbursementDate\"].apply(lambda x : convert_to_datetime(x)[:4])\n",
    "    df[\"Disbursement_month\"] = df[\"DisbursementDate\"].apply(lambda x : convert_to_datetime(x)[5:7])\n",
    "    # df[\"Disbursement_day\"] = df[\"DisbursementDate\"].apply(lambda x : convert_to_datetime(x)[8:])\n",
    "    \n",
    "    # Sectorの前処理\n",
    "    df[\"Sector\"] = df[\"Sector\"].apply(sector_prepro)\n",
    "    \n",
    "    # # 融資と支払日\n",
    "    # df[\"Dif_disbursement_approval\"] = df.apply(lambda row: disbursement_approval_dif(row[\"ApprovalDate\"], row[\"DisbursementDate\"]), axis=1)\n",
    "    \n",
    "    # 市内の従業員数の平均\n",
    "    city_df = df[[\"City\",\"NoEmp\", \"Term\"]].groupby(\"City\", as_index=False).agg([\"mean\", \"std\"])\n",
    "    city_df.columns = [f\"{col[0]}_{col[1]}\" for col in city_df.columns]\n",
    "    city_df = city_df.rename(columns={\"City_\":\"City\"})\n",
    "    \n",
    "    df = pd.merge(df, city_df, how=\"left\", on=\"City\")\n",
    "    \n",
    "    # 市内の従業員数と比較した割合\n",
    "    df[\"City_Ave_NoEmp_Ratio\"] = df[\"NoEmp\"] / df[\"NoEmp_mean\"]\n",
    "    # 市内の融資月と比較した割合\n",
    "    df[\"City_Ave_Term_Ratio\"] = df[\"Term\"] / df[\"Term_mean\"]\n",
    "    \n",
    "    \n",
    "    # 都市部・田舎の従業員数の平均\n",
    "    urban_df = df[[\"UrbanRural\",\"NoEmp\", \"Term\"]].groupby(\"UrbanRural\", as_index=False).agg([\"mean\", \"std\"])\n",
    "    urban_df.columns = [f\"Urban_{col[0]}_{col[1]}\" for col in urban_df.columns]\n",
    "    urban_df = urban_df.rename(columns={\"Urban_UrbanRural_\":\"UrbanRural\"})\n",
    "    \n",
    "    df = pd.merge(df, urban_df, how=\"left\", on=\"UrbanRural\")\n",
    "    \n",
    "    # 市内の従業員数と比較した割合\n",
    "    df[\"Urban_Ave_NoEmp_Ratio\"] = df[\"NoEmp\"] / df[\"Urban_NoEmp_mean\"]\n",
    "    # 市内の融資月と比較した割合\n",
    "    df[\"Urban_Ave_Term_Ratio\"] = df[\"Term\"] / df[\"Urban_Term_mean\"]\n",
    "    \n",
    "    \n",
    "    # Sectorの従業員数の平均\n",
    "    sector_df = df[[\"Sector\", \"NoEmp\", \"Term\"]].groupby(\"Sector\", as_index=False).agg([\"mean\", \"std\"])\n",
    "    sector_df.columns = [f\"Sector_{col[0]}_{col[1]}\" for col in sector_df.columns]\n",
    "    sector_df = sector_df.rename(columns={\"Sector_Sector_\":\"Sector\"})\n",
    "    \n",
    "    df = pd.merge(df, sector_df, how=\"left\", on=\"Sector\")\n",
    "    \n",
    "    # セクター内の従業員数と比較した割合\n",
    "    df[\"Sector_Ave_NoEmp_Ratio\"] = df[\"NoEmp\"] / df[\"Sector_NoEmp_mean\"]\n",
    "    # セクター内の融資月と比較した割合\n",
    "    df[\"Sector_Ave_Term_Ratio\"] = df[\"Term\"] / df[\"Sector_Term_mean\"]\n",
    "    \n",
    "    \n",
    "    # 従業員数に対する融資を受けて創出される雇用の数の割合\n",
    "    df[\"CreateJob_Ratio\"] = df[\"CreateJob\"] / df[\"NoEmp\"]\n",
    "    \n",
    "    # 従業員数に対する融資を受けたことによる維持する雇用の数\n",
    "    df[\"RetainedJob_Ratio\"] = df[\"RetainedJob\"] / df[\"NoEmp\"]\n",
    "    \n",
    "    # 銀行によって承認されたローンのうち、支払われたローンの総額の割合\n",
    "    df[\"Disbursement_Ratio\"] = df[\"DisbursementGross\"] / df[\"GrAppv\"]\n",
    "    \n",
    "    # 銀行によって承認されたローンのうち、支払われたローンの総額の割合\n",
    "    df[\"SBA_Ratio\"] = df[\"SBA_Appv\"] / df[\"GrAppv\"]    \n",
    "    \n",
    "    # モデル作成には使わない変数を削除\n",
    "    df = df.drop(['DisbursementDate', 'ApprovalDate', 'City', \"Sector\", \"MIS_Status\", \"State\"], axis=1)\n",
    "    \n",
    "    # ラベルエンコーディング\n",
    "    category_list = []\n",
    "    for col_name in df:\n",
    "        if df[col_name].dtypes == object:\n",
    "            df[col_name] = label_encording(df[col_name])\n",
    "            df[col_name] = df[col_name].astype(\"category\")\n",
    "    \n",
    "    return df"
   ]
  },
  {
   "cell_type": "code",
   "execution_count": 114,
   "id": "d5b4f994-5a48-4135-8b29-338e5582f537",
   "metadata": {
    "tags": []
   },
   "outputs": [],
   "source": [
    "all_x = pd.concat([train_df, test_df])\n",
    "prepro_all_x = preprocess(all_x)\n",
    "prepro_train_y = label_encording(train_df[\"MIS_Status\"].astype(\"str\"))\n",
    "\n",
    "# 前処理を行なったデータを，学習データとテストデータに再分割\n",
    "prepro_train_x, prepro_test = prepro_all_x[:train_df.shape[0]], prepro_all_x[train_df.shape[0]:]"
   ]
  },
  {
   "cell_type": "code",
   "execution_count": 115,
   "id": "62073d9f-5852-41f2-b76a-cf35f6907a59",
   "metadata": {
    "tags": []
   },
   "outputs": [
    {
     "name": "stdout",
     "output_type": "stream",
     "text": [
      "data_shape : (42307, 37)\n"
     ]
    },
    {
     "data": {
      "text/html": [
       "<div>\n",
       "<style scoped>\n",
       "    .dataframe tbody tr th:only-of-type {\n",
       "        vertical-align: middle;\n",
       "    }\n",
       "\n",
       "    .dataframe tbody tr th {\n",
       "        vertical-align: top;\n",
       "    }\n",
       "\n",
       "    .dataframe thead th {\n",
       "        text-align: right;\n",
       "    }\n",
       "</style>\n",
       "<table border=\"1\" class=\"dataframe\">\n",
       "  <thead>\n",
       "    <tr style=\"text-align: right;\">\n",
       "      <th></th>\n",
       "      <th>データ型</th>\n",
       "      <th>欠損値</th>\n",
       "      <th>ユニーク数</th>\n",
       "      <th>count</th>\n",
       "      <th>max</th>\n",
       "      <th>freq</th>\n",
       "      <th>min</th>\n",
       "      <th>mean</th>\n",
       "      <th>std</th>\n",
       "    </tr>\n",
       "  </thead>\n",
       "  <tbody>\n",
       "    <tr>\n",
       "      <th>Term</th>\n",
       "      <td>int64</td>\n",
       "      <td>0</td>\n",
       "      <td>228</td>\n",
       "      <td>42307.0</td>\n",
       "      <td>3.600000e+02</td>\n",
       "      <td>NaN</td>\n",
       "      <td>0.000000</td>\n",
       "      <td>1.086017e+02</td>\n",
       "      <td>84.569847</td>\n",
       "    </tr>\n",
       "    <tr>\n",
       "      <th>NoEmp</th>\n",
       "      <td>int64</td>\n",
       "      <td>0</td>\n",
       "      <td>196</td>\n",
       "      <td>42307.0</td>\n",
       "      <td>2.020000e+02</td>\n",
       "      <td>NaN</td>\n",
       "      <td>0.000000</td>\n",
       "      <td>9.704304e+00</td>\n",
       "      <td>17.488022</td>\n",
       "    </tr>\n",
       "    <tr>\n",
       "      <th>CreateJob</th>\n",
       "      <td>int64</td>\n",
       "      <td>0</td>\n",
       "      <td>49</td>\n",
       "      <td>42307.0</td>\n",
       "      <td>7.000000e+01</td>\n",
       "      <td>NaN</td>\n",
       "      <td>0.000000</td>\n",
       "      <td>2.183728e+00</td>\n",
       "      <td>5.093980</td>\n",
       "    </tr>\n",
       "    <tr>\n",
       "      <th>RetainedJob</th>\n",
       "      <td>int64</td>\n",
       "      <td>0</td>\n",
       "      <td>83</td>\n",
       "      <td>42307.0</td>\n",
       "      <td>1.400000e+02</td>\n",
       "      <td>NaN</td>\n",
       "      <td>0.000000</td>\n",
       "      <td>3.478148e+00</td>\n",
       "      <td>8.113648</td>\n",
       "    </tr>\n",
       "    <tr>\n",
       "      <th>RevLineCr</th>\n",
       "      <td>category</td>\n",
       "      <td>0</td>\n",
       "      <td>5</td>\n",
       "      <td>42307.0</td>\n",
       "      <td>1.000000e+00</td>\n",
       "      <td>27618.0</td>\n",
       "      <td>NaN</td>\n",
       "      <td>NaN</td>\n",
       "      <td>NaN</td>\n",
       "    </tr>\n",
       "    <tr>\n",
       "      <th>LowDoc</th>\n",
       "      <td>category</td>\n",
       "      <td>0</td>\n",
       "      <td>7</td>\n",
       "      <td>42307.0</td>\n",
       "      <td>3.000000e+00</td>\n",
       "      <td>34313.0</td>\n",
       "      <td>NaN</td>\n",
       "      <td>NaN</td>\n",
       "      <td>NaN</td>\n",
       "    </tr>\n",
       "    <tr>\n",
       "      <th>ApprovalFY</th>\n",
       "      <td>category</td>\n",
       "      <td>0</td>\n",
       "      <td>38</td>\n",
       "      <td>42307.0</td>\n",
       "      <td>2.700000e+01</td>\n",
       "      <td>4708.0</td>\n",
       "      <td>NaN</td>\n",
       "      <td>NaN</td>\n",
       "      <td>NaN</td>\n",
       "    </tr>\n",
       "    <tr>\n",
       "      <th>BankState</th>\n",
       "      <td>category</td>\n",
       "      <td>0</td>\n",
       "      <td>52</td>\n",
       "      <td>42307.0</td>\n",
       "      <td>4.000000e+00</td>\n",
       "      <td>6476.0</td>\n",
       "      <td>NaN</td>\n",
       "      <td>NaN</td>\n",
       "      <td>NaN</td>\n",
       "    </tr>\n",
       "    <tr>\n",
       "      <th>DisbursementGross</th>\n",
       "      <td>int64</td>\n",
       "      <td>0</td>\n",
       "      <td>2694</td>\n",
       "      <td>42307.0</td>\n",
       "      <td>6.296554e+06</td>\n",
       "      <td>NaN</td>\n",
       "      <td>4000.000000</td>\n",
       "      <td>1.793574e+05</td>\n",
       "      <td>248723.172878</td>\n",
       "    </tr>\n",
       "    <tr>\n",
       "      <th>GrAppv</th>\n",
       "      <td>int64</td>\n",
       "      <td>0</td>\n",
       "      <td>1425</td>\n",
       "      <td>42307.0</td>\n",
       "      <td>3.500000e+06</td>\n",
       "      <td>NaN</td>\n",
       "      <td>2000.000000</td>\n",
       "      <td>1.739594e+05</td>\n",
       "      <td>247265.738197</td>\n",
       "    </tr>\n",
       "    <tr>\n",
       "      <th>SBA_Appv</th>\n",
       "      <td>int64</td>\n",
       "      <td>0</td>\n",
       "      <td>2005</td>\n",
       "      <td>42307.0</td>\n",
       "      <td>3.471000e+06</td>\n",
       "      <td>NaN</td>\n",
       "      <td>1000.000000</td>\n",
       "      <td>1.376013e+05</td>\n",
       "      <td>205562.057369</td>\n",
       "    </tr>\n",
       "    <tr>\n",
       "      <th>UrbanRural</th>\n",
       "      <td>category</td>\n",
       "      <td>0</td>\n",
       "      <td>3</td>\n",
       "      <td>42307.0</td>\n",
       "      <td>0.000000e+00</td>\n",
       "      <td>24037.0</td>\n",
       "      <td>NaN</td>\n",
       "      <td>NaN</td>\n",
       "      <td>NaN</td>\n",
       "    </tr>\n",
       "    <tr>\n",
       "      <th>Approval_month</th>\n",
       "      <td>category</td>\n",
       "      <td>0</td>\n",
       "      <td>12</td>\n",
       "      <td>42307.0</td>\n",
       "      <td>9.000000e+00</td>\n",
       "      <td>4751.0</td>\n",
       "      <td>NaN</td>\n",
       "      <td>NaN</td>\n",
       "      <td>NaN</td>\n",
       "    </tr>\n",
       "    <tr>\n",
       "      <th>Disbursement_year</th>\n",
       "      <td>category</td>\n",
       "      <td>0</td>\n",
       "      <td>39</td>\n",
       "      <td>42307.0</td>\n",
       "      <td>2.800000e+01</td>\n",
       "      <td>4646.0</td>\n",
       "      <td>NaN</td>\n",
       "      <td>NaN</td>\n",
       "      <td>NaN</td>\n",
       "    </tr>\n",
       "    <tr>\n",
       "      <th>Disbursement_month</th>\n",
       "      <td>category</td>\n",
       "      <td>0</td>\n",
       "      <td>13</td>\n",
       "      <td>42307.0</td>\n",
       "      <td>4.000000e+00</td>\n",
       "      <td>4959.0</td>\n",
       "      <td>NaN</td>\n",
       "      <td>NaN</td>\n",
       "      <td>NaN</td>\n",
       "    </tr>\n",
       "    <tr>\n",
       "      <th>NoEmp_mean</th>\n",
       "      <td>float64</td>\n",
       "      <td>0</td>\n",
       "      <td>1167</td>\n",
       "      <td>42307.0</td>\n",
       "      <td>1.040000e+02</td>\n",
       "      <td>NaN</td>\n",
       "      <td>2.000000</td>\n",
       "      <td>9.678972e+00</td>\n",
       "      <td>6.976384</td>\n",
       "    </tr>\n",
       "    <tr>\n",
       "      <th>NoEmp_std</th>\n",
       "      <td>float64</td>\n",
       "      <td>345</td>\n",
       "      <td>1898</td>\n",
       "      <td>41962.0</td>\n",
       "      <td>8.555992e+01</td>\n",
       "      <td>NaN</td>\n",
       "      <td>0.000000</td>\n",
       "      <td>1.311459e+01</td>\n",
       "      <td>9.567593</td>\n",
       "    </tr>\n",
       "    <tr>\n",
       "      <th>Term_mean</th>\n",
       "      <td>float64</td>\n",
       "      <td>0</td>\n",
       "      <td>1792</td>\n",
       "      <td>42307.0</td>\n",
       "      <td>3.100000e+02</td>\n",
       "      <td>NaN</td>\n",
       "      <td>7.000000</td>\n",
       "      <td>1.084238e+02</td>\n",
       "      <td>35.948879</td>\n",
       "    </tr>\n",
       "    <tr>\n",
       "      <th>Term_std</th>\n",
       "      <td>float64</td>\n",
       "      <td>345</td>\n",
       "      <td>2135</td>\n",
       "      <td>41962.0</td>\n",
       "      <td>2.064752e+02</td>\n",
       "      <td>NaN</td>\n",
       "      <td>0.000000</td>\n",
       "      <td>7.549162e+01</td>\n",
       "      <td>22.676828</td>\n",
       "    </tr>\n",
       "    <tr>\n",
       "      <th>City_Ave_NoEmp_Ratio</th>\n",
       "      <td>float64</td>\n",
       "      <td>0</td>\n",
       "      <td>10744</td>\n",
       "      <td>42307.0</td>\n",
       "      <td>3.307117e+01</td>\n",
       "      <td>NaN</td>\n",
       "      <td>0.000000</td>\n",
       "      <td>1.002500e+00</td>\n",
       "      <td>1.577565</td>\n",
       "    </tr>\n",
       "    <tr>\n",
       "      <th>City_Ave_Term_Ratio</th>\n",
       "      <td>float64</td>\n",
       "      <td>0</td>\n",
       "      <td>20810</td>\n",
       "      <td>42307.0</td>\n",
       "      <td>5.760034e+00</td>\n",
       "      <td>NaN</td>\n",
       "      <td>0.000000</td>\n",
       "      <td>1.002488e+00</td>\n",
       "      <td>0.722481</td>\n",
       "    </tr>\n",
       "    <tr>\n",
       "      <th>Urban_NoEmp_mean</th>\n",
       "      <td>float64</td>\n",
       "      <td>0</td>\n",
       "      <td>3</td>\n",
       "      <td>42307.0</td>\n",
       "      <td>1.204105e+01</td>\n",
       "      <td>NaN</td>\n",
       "      <td>5.503355</td>\n",
       "      <td>9.680780e+00</td>\n",
       "      <td>2.757602</td>\n",
       "    </tr>\n",
       "    <tr>\n",
       "      <th>Urban_NoEmp_std</th>\n",
       "      <td>float64</td>\n",
       "      <td>0</td>\n",
       "      <td>3</td>\n",
       "      <td>42307.0</td>\n",
       "      <td>2.077351e+01</td>\n",
       "      <td>NaN</td>\n",
       "      <td>9.362725</td>\n",
       "      <td>1.632500e+01</td>\n",
       "      <td>5.131357</td>\n",
       "    </tr>\n",
       "    <tr>\n",
       "      <th>Urban_Term_mean</th>\n",
       "      <td>float64</td>\n",
       "      <td>0</td>\n",
       "      <td>3</td>\n",
       "      <td>42307.0</td>\n",
       "      <td>1.235693e+02</td>\n",
       "      <td>NaN</td>\n",
       "      <td>83.575384</td>\n",
       "      <td>1.084365e+02</td>\n",
       "      <td>17.525927</td>\n",
       "    </tr>\n",
       "    <tr>\n",
       "      <th>Urban_Term_std</th>\n",
       "      <td>float64</td>\n",
       "      <td>0</td>\n",
       "      <td>3</td>\n",
       "      <td>42307.0</td>\n",
       "      <td>8.880136e+01</td>\n",
       "      <td>NaN</td>\n",
       "      <td>66.213462</td>\n",
       "      <td>8.244744e+01</td>\n",
       "      <td>8.242821</td>\n",
       "    </tr>\n",
       "    <tr>\n",
       "      <th>Urban_Ave_NoEmp_Ratio</th>\n",
       "      <td>float64</td>\n",
       "      <td>0</td>\n",
       "      <td>365</td>\n",
       "      <td>42307.0</td>\n",
       "      <td>3.343415e+01</td>\n",
       "      <td>NaN</td>\n",
       "      <td>0.000000</td>\n",
       "      <td>1.001930e+00</td>\n",
       "      <td>1.682143</td>\n",
       "    </tr>\n",
       "    <tr>\n",
       "      <th>Urban_Ave_Term_Ratio</th>\n",
       "      <td>float64</td>\n",
       "      <td>0</td>\n",
       "      <td>585</td>\n",
       "      <td>42307.0</td>\n",
       "      <td>3.733157e+00</td>\n",
       "      <td>NaN</td>\n",
       "      <td>0.000000</td>\n",
       "      <td>1.001899e+00</td>\n",
       "      <td>0.771587</td>\n",
       "    </tr>\n",
       "    <tr>\n",
       "      <th>Sector_NoEmp_mean</th>\n",
       "      <td>float64</td>\n",
       "      <td>0</td>\n",
       "      <td>20</td>\n",
       "      <td>42307.0</td>\n",
       "      <td>1.575000e+01</td>\n",
       "      <td>NaN</td>\n",
       "      <td>3.855212</td>\n",
       "      <td>9.688987e+00</td>\n",
       "      <td>1.795686</td>\n",
       "    </tr>\n",
       "    <tr>\n",
       "      <th>Sector_NoEmp_std</th>\n",
       "      <td>float64</td>\n",
       "      <td>0</td>\n",
       "      <td>20</td>\n",
       "      <td>42307.0</td>\n",
       "      <td>2.691491e+01</td>\n",
       "      <td>NaN</td>\n",
       "      <td>7.000710</td>\n",
       "      <td>1.615984e+01</td>\n",
       "      <td>6.072536</td>\n",
       "    </tr>\n",
       "    <tr>\n",
       "      <th>Sector_Term_mean</th>\n",
       "      <td>float64</td>\n",
       "      <td>0</td>\n",
       "      <td>20</td>\n",
       "      <td>42307.0</td>\n",
       "      <td>1.377308e+02</td>\n",
       "      <td>NaN</td>\n",
       "      <td>72.649007</td>\n",
       "      <td>1.084940e+02</td>\n",
       "      <td>10.335928</td>\n",
       "    </tr>\n",
       "    <tr>\n",
       "      <th>Sector_Term_std</th>\n",
       "      <td>float64</td>\n",
       "      <td>0</td>\n",
       "      <td>20</td>\n",
       "      <td>42307.0</td>\n",
       "      <td>1.155841e+02</td>\n",
       "      <td>NaN</td>\n",
       "      <td>49.704349</td>\n",
       "      <td>8.352406e+01</td>\n",
       "      <td>9.576812</td>\n",
       "    </tr>\n",
       "    <tr>\n",
       "      <th>Sector_Ave_NoEmp_Ratio</th>\n",
       "      <td>float64</td>\n",
       "      <td>0</td>\n",
       "      <td>1095</td>\n",
       "      <td>42307.0</td>\n",
       "      <td>1.986535e+01</td>\n",
       "      <td>NaN</td>\n",
       "      <td>0.000000</td>\n",
       "      <td>1.001714e+00</td>\n",
       "      <td>1.706087</td>\n",
       "    </tr>\n",
       "    <tr>\n",
       "      <th>Sector_Ave_Term_Ratio</th>\n",
       "      <td>float64</td>\n",
       "      <td>0</td>\n",
       "      <td>2282</td>\n",
       "      <td>42307.0</td>\n",
       "      <td>4.195596e+00</td>\n",
       "      <td>NaN</td>\n",
       "      <td>0.000000</td>\n",
       "      <td>1.000944e+00</td>\n",
       "      <td>0.773701</td>\n",
       "    </tr>\n",
       "    <tr>\n",
       "      <th>CreateJob_Ratio</th>\n",
       "      <td>float64</td>\n",
       "      <td>1789</td>\n",
       "      <td>729</td>\n",
       "      <td>40518.0</td>\n",
       "      <td>inf</td>\n",
       "      <td>NaN</td>\n",
       "      <td>0.000000</td>\n",
       "      <td>inf</td>\n",
       "      <td>NaN</td>\n",
       "    </tr>\n",
       "    <tr>\n",
       "      <th>RetainedJob_Ratio</th>\n",
       "      <td>float64</td>\n",
       "      <td>1436</td>\n",
       "      <td>1050</td>\n",
       "      <td>40871.0</td>\n",
       "      <td>inf</td>\n",
       "      <td>NaN</td>\n",
       "      <td>0.000000</td>\n",
       "      <td>inf</td>\n",
       "      <td>NaN</td>\n",
       "    </tr>\n",
       "    <tr>\n",
       "      <th>Disbursement_Ratio</th>\n",
       "      <td>float64</td>\n",
       "      <td>0</td>\n",
       "      <td>1659</td>\n",
       "      <td>42307.0</td>\n",
       "      <td>1.539883e+01</td>\n",
       "      <td>NaN</td>\n",
       "      <td>0.100000</td>\n",
       "      <td>1.137372e+00</td>\n",
       "      <td>0.552150</td>\n",
       "    </tr>\n",
       "    <tr>\n",
       "      <th>SBA_Ratio</th>\n",
       "      <td>float64</td>\n",
       "      <td>0</td>\n",
       "      <td>196</td>\n",
       "      <td>42307.0</td>\n",
       "      <td>1.000000e+00</td>\n",
       "      <td>NaN</td>\n",
       "      <td>0.189993</td>\n",
       "      <td>7.365416e-01</td>\n",
       "      <td>0.166856</td>\n",
       "    </tr>\n",
       "  </tbody>\n",
       "</table>\n",
       "</div>"
      ],
      "text/plain": [
       "                            データ型   欠損値  ユニーク数    count           max     freq  \\\n",
       "Term                       int64     0    228  42307.0  3.600000e+02      NaN   \n",
       "NoEmp                      int64     0    196  42307.0  2.020000e+02      NaN   \n",
       "CreateJob                  int64     0     49  42307.0  7.000000e+01      NaN   \n",
       "RetainedJob                int64     0     83  42307.0  1.400000e+02      NaN   \n",
       "RevLineCr               category     0      5  42307.0  1.000000e+00  27618.0   \n",
       "LowDoc                  category     0      7  42307.0  3.000000e+00  34313.0   \n",
       "ApprovalFY              category     0     38  42307.0  2.700000e+01   4708.0   \n",
       "BankState               category     0     52  42307.0  4.000000e+00   6476.0   \n",
       "DisbursementGross          int64     0   2694  42307.0  6.296554e+06      NaN   \n",
       "GrAppv                     int64     0   1425  42307.0  3.500000e+06      NaN   \n",
       "SBA_Appv                   int64     0   2005  42307.0  3.471000e+06      NaN   \n",
       "UrbanRural              category     0      3  42307.0  0.000000e+00  24037.0   \n",
       "Approval_month          category     0     12  42307.0  9.000000e+00   4751.0   \n",
       "Disbursement_year       category     0     39  42307.0  2.800000e+01   4646.0   \n",
       "Disbursement_month      category     0     13  42307.0  4.000000e+00   4959.0   \n",
       "NoEmp_mean               float64     0   1167  42307.0  1.040000e+02      NaN   \n",
       "NoEmp_std                float64   345   1898  41962.0  8.555992e+01      NaN   \n",
       "Term_mean                float64     0   1792  42307.0  3.100000e+02      NaN   \n",
       "Term_std                 float64   345   2135  41962.0  2.064752e+02      NaN   \n",
       "City_Ave_NoEmp_Ratio     float64     0  10744  42307.0  3.307117e+01      NaN   \n",
       "City_Ave_Term_Ratio      float64     0  20810  42307.0  5.760034e+00      NaN   \n",
       "Urban_NoEmp_mean         float64     0      3  42307.0  1.204105e+01      NaN   \n",
       "Urban_NoEmp_std          float64     0      3  42307.0  2.077351e+01      NaN   \n",
       "Urban_Term_mean          float64     0      3  42307.0  1.235693e+02      NaN   \n",
       "Urban_Term_std           float64     0      3  42307.0  8.880136e+01      NaN   \n",
       "Urban_Ave_NoEmp_Ratio    float64     0    365  42307.0  3.343415e+01      NaN   \n",
       "Urban_Ave_Term_Ratio     float64     0    585  42307.0  3.733157e+00      NaN   \n",
       "Sector_NoEmp_mean        float64     0     20  42307.0  1.575000e+01      NaN   \n",
       "Sector_NoEmp_std         float64     0     20  42307.0  2.691491e+01      NaN   \n",
       "Sector_Term_mean         float64     0     20  42307.0  1.377308e+02      NaN   \n",
       "Sector_Term_std          float64     0     20  42307.0  1.155841e+02      NaN   \n",
       "Sector_Ave_NoEmp_Ratio   float64     0   1095  42307.0  1.986535e+01      NaN   \n",
       "Sector_Ave_Term_Ratio    float64     0   2282  42307.0  4.195596e+00      NaN   \n",
       "CreateJob_Ratio          float64  1789    729  40518.0           inf      NaN   \n",
       "RetainedJob_Ratio        float64  1436   1050  40871.0           inf      NaN   \n",
       "Disbursement_Ratio       float64     0   1659  42307.0  1.539883e+01      NaN   \n",
       "SBA_Ratio                float64     0    196  42307.0  1.000000e+00      NaN   \n",
       "\n",
       "                                min          mean            std  \n",
       "Term                       0.000000  1.086017e+02      84.569847  \n",
       "NoEmp                      0.000000  9.704304e+00      17.488022  \n",
       "CreateJob                  0.000000  2.183728e+00       5.093980  \n",
       "RetainedJob                0.000000  3.478148e+00       8.113648  \n",
       "RevLineCr                       NaN           NaN            NaN  \n",
       "LowDoc                          NaN           NaN            NaN  \n",
       "ApprovalFY                      NaN           NaN            NaN  \n",
       "BankState                       NaN           NaN            NaN  \n",
       "DisbursementGross       4000.000000  1.793574e+05  248723.172878  \n",
       "GrAppv                  2000.000000  1.739594e+05  247265.738197  \n",
       "SBA_Appv                1000.000000  1.376013e+05  205562.057369  \n",
       "UrbanRural                      NaN           NaN            NaN  \n",
       "Approval_month                  NaN           NaN            NaN  \n",
       "Disbursement_year               NaN           NaN            NaN  \n",
       "Disbursement_month              NaN           NaN            NaN  \n",
       "NoEmp_mean                 2.000000  9.678972e+00       6.976384  \n",
       "NoEmp_std                  0.000000  1.311459e+01       9.567593  \n",
       "Term_mean                  7.000000  1.084238e+02      35.948879  \n",
       "Term_std                   0.000000  7.549162e+01      22.676828  \n",
       "City_Ave_NoEmp_Ratio       0.000000  1.002500e+00       1.577565  \n",
       "City_Ave_Term_Ratio        0.000000  1.002488e+00       0.722481  \n",
       "Urban_NoEmp_mean           5.503355  9.680780e+00       2.757602  \n",
       "Urban_NoEmp_std            9.362725  1.632500e+01       5.131357  \n",
       "Urban_Term_mean           83.575384  1.084365e+02      17.525927  \n",
       "Urban_Term_std            66.213462  8.244744e+01       8.242821  \n",
       "Urban_Ave_NoEmp_Ratio      0.000000  1.001930e+00       1.682143  \n",
       "Urban_Ave_Term_Ratio       0.000000  1.001899e+00       0.771587  \n",
       "Sector_NoEmp_mean          3.855212  9.688987e+00       1.795686  \n",
       "Sector_NoEmp_std           7.000710  1.615984e+01       6.072536  \n",
       "Sector_Term_mean          72.649007  1.084940e+02      10.335928  \n",
       "Sector_Term_std           49.704349  8.352406e+01       9.576812  \n",
       "Sector_Ave_NoEmp_Ratio     0.000000  1.001714e+00       1.706087  \n",
       "Sector_Ave_Term_Ratio      0.000000  1.000944e+00       0.773701  \n",
       "CreateJob_Ratio            0.000000           inf            NaN  \n",
       "RetainedJob_Ratio          0.000000           inf            NaN  \n",
       "Disbursement_Ratio         0.100000  1.137372e+00       0.552150  \n",
       "SBA_Ratio                  0.189993  7.365416e-01       0.166856  "
      ]
     },
     "metadata": {},
     "output_type": "display_data"
    },
    {
     "data": {
      "text/html": [
       "<div>\n",
       "<style scoped>\n",
       "    .dataframe tbody tr th:only-of-type {\n",
       "        vertical-align: middle;\n",
       "    }\n",
       "\n",
       "    .dataframe tbody tr th {\n",
       "        vertical-align: top;\n",
       "    }\n",
       "\n",
       "    .dataframe thead th {\n",
       "        text-align: right;\n",
       "    }\n",
       "</style>\n",
       "<table border=\"1\" class=\"dataframe\">\n",
       "  <thead>\n",
       "    <tr style=\"text-align: right;\">\n",
       "      <th></th>\n",
       "      <th>Term</th>\n",
       "      <th>NoEmp</th>\n",
       "      <th>CreateJob</th>\n",
       "      <th>RetainedJob</th>\n",
       "      <th>RevLineCr</th>\n",
       "      <th>LowDoc</th>\n",
       "      <th>ApprovalFY</th>\n",
       "      <th>BankState</th>\n",
       "      <th>DisbursementGross</th>\n",
       "      <th>GrAppv</th>\n",
       "      <th>...</th>\n",
       "      <th>Sector_NoEmp_mean</th>\n",
       "      <th>Sector_NoEmp_std</th>\n",
       "      <th>Sector_Term_mean</th>\n",
       "      <th>Sector_Term_std</th>\n",
       "      <th>Sector_Ave_NoEmp_Ratio</th>\n",
       "      <th>Sector_Ave_Term_Ratio</th>\n",
       "      <th>CreateJob_Ratio</th>\n",
       "      <th>RetainedJob_Ratio</th>\n",
       "      <th>Disbursement_Ratio</th>\n",
       "      <th>SBA_Ratio</th>\n",
       "    </tr>\n",
       "  </thead>\n",
       "  <tbody>\n",
       "    <tr>\n",
       "      <th>0</th>\n",
       "      <td>163</td>\n",
       "      <td>21</td>\n",
       "      <td>0</td>\n",
       "      <td>0</td>\n",
       "      <td>1</td>\n",
       "      <td>3</td>\n",
       "      <td>29</td>\n",
       "      <td>43</td>\n",
       "      <td>80000</td>\n",
       "      <td>80000</td>\n",
       "      <td>...</td>\n",
       "      <td>11.476069</td>\n",
       "      <td>26.914909</td>\n",
       "      <td>114.104440</td>\n",
       "      <td>74.310003</td>\n",
       "      <td>1.829895</td>\n",
       "      <td>1.428516</td>\n",
       "      <td>0.000000</td>\n",
       "      <td>0.0</td>\n",
       "      <td>1.0000</td>\n",
       "      <td>0.85</td>\n",
       "    </tr>\n",
       "    <tr>\n",
       "      <th>1</th>\n",
       "      <td>84</td>\n",
       "      <td>6</td>\n",
       "      <td>4</td>\n",
       "      <td>0</td>\n",
       "      <td>0</td>\n",
       "      <td>3</td>\n",
       "      <td>15</td>\n",
       "      <td>37</td>\n",
       "      <td>287000</td>\n",
       "      <td>287000</td>\n",
       "      <td>...</td>\n",
       "      <td>8.966865</td>\n",
       "      <td>12.457005</td>\n",
       "      <td>110.574766</td>\n",
       "      <td>84.594197</td>\n",
       "      <td>0.669130</td>\n",
       "      <td>0.759667</td>\n",
       "      <td>0.666667</td>\n",
       "      <td>0.0</td>\n",
       "      <td>1.0000</td>\n",
       "      <td>0.80</td>\n",
       "    </tr>\n",
       "    <tr>\n",
       "      <th>2</th>\n",
       "      <td>242</td>\n",
       "      <td>45</td>\n",
       "      <td>4</td>\n",
       "      <td>90</td>\n",
       "      <td>1</td>\n",
       "      <td>3</td>\n",
       "      <td>24</td>\n",
       "      <td>31</td>\n",
       "      <td>31983</td>\n",
       "      <td>30000</td>\n",
       "      <td>...</td>\n",
       "      <td>10.388384</td>\n",
       "      <td>13.907888</td>\n",
       "      <td>114.423624</td>\n",
       "      <td>92.092597</td>\n",
       "      <td>4.331762</td>\n",
       "      <td>2.114948</td>\n",
       "      <td>0.088889</td>\n",
       "      <td>2.0</td>\n",
       "      <td>1.0661</td>\n",
       "      <td>0.50</td>\n",
       "    </tr>\n",
       "  </tbody>\n",
       "</table>\n",
       "<p>3 rows × 37 columns</p>\n",
       "</div>"
      ],
      "text/plain": [
       "   Term  NoEmp  CreateJob  RetainedJob RevLineCr LowDoc ApprovalFY BankState  \\\n",
       "0   163     21          0            0         1      3         29        43   \n",
       "1    84      6          4            0         0      3         15        37   \n",
       "2   242     45          4           90         1      3         24        31   \n",
       "\n",
       "   DisbursementGross  GrAppv  ...  Sector_NoEmp_mean Sector_NoEmp_std  \\\n",
       "0              80000   80000  ...          11.476069        26.914909   \n",
       "1             287000  287000  ...           8.966865        12.457005   \n",
       "2              31983   30000  ...          10.388384        13.907888   \n",
       "\n",
       "  Sector_Term_mean Sector_Term_std Sector_Ave_NoEmp_Ratio  \\\n",
       "0       114.104440       74.310003               1.829895   \n",
       "1       110.574766       84.594197               0.669130   \n",
       "2       114.423624       92.092597               4.331762   \n",
       "\n",
       "   Sector_Ave_Term_Ratio  CreateJob_Ratio  RetainedJob_Ratio  \\\n",
       "0               1.428516         0.000000                0.0   \n",
       "1               0.759667         0.666667                0.0   \n",
       "2               2.114948         0.088889                2.0   \n",
       "\n",
       "   Disbursement_Ratio  SBA_Ratio  \n",
       "0              1.0000       0.85  \n",
       "1              1.0000       0.80  \n",
       "2              1.0661       0.50  \n",
       "\n",
       "[3 rows x 37 columns]"
      ]
     },
     "metadata": {},
     "output_type": "display_data"
    }
   ],
   "source": [
    "exec(f\"display(data_assessment(prepro_train_x))\")\n",
    "exec(f\"display(prepro_train_x.head(3))\")"
   ]
  },
  {
   "cell_type": "code",
   "execution_count": 96,
   "id": "43f2fb29-c4f1-4b62-a763-ee7c5402079b",
   "metadata": {
    "tags": []
   },
   "outputs": [],
   "source": [
    "# # ターゲットエンコーディング\n",
    "# sector_target_df = pd.concat([train_x, train_y], axis=1)[[\"City\", \"MIS_Status\"]].groupby(\"City\", as_index=False).agg([\"mean\", \"std\"])\n",
    "# sector_target_df.columns = [f\"City_{col[0]}_{col[1]}\" for col in sector_target_df.columns]\n",
    "# sector_target_df = sector_target_df.reset_index()\n",
    "# df = pd.merge(df, sector_target_df, how=\"left\", on=\"City\")"
   ]
  },
  {
   "cell_type": "code",
   "execution_count": 121,
   "id": "970f2dbd-efc2-4bdb-ae9f-815111dc09dc",
   "metadata": {
    "tags": []
   },
   "outputs": [],
   "source": [
    "# optunaによる学習\n",
    "def model_learning(x, y):\n",
    "    \n",
    "    train_x, val_x, train_y, val_y = train_test_split(x, y, random_state=33, test_size=0.25, shuffle=True)\n",
    "    \n",
    "    lgb_train = lgb.Dataset(train_x, train_y)\n",
    "    lgb_val = lgb.Dataset(val_x, val_y)\n",
    "    \n",
    "    params = {'objective': 'binary',\n",
    "              'metric':'auc',\n",
    "              'verbosity':-1}\n",
    "    \n",
    "    model = opt_lgb.train(params,\n",
    "                          lgb_train,\n",
    "                          num_boost_round=100,\n",
    "                          valid_sets=[lgb_train, lgb_val],\n",
    "                          # categorical_feature=category_list\n",
    "                         )\n",
    "    best_params = model.params\n",
    "    \n",
    "    return model, val_x, val_y, best_params"
   ]
  },
  {
   "cell_type": "code",
   "execution_count": 122,
   "id": "0df9dfac-be6f-4b35-ab94-20a2e31ffce6",
   "metadata": {
    "tags": []
   },
   "outputs": [],
   "source": [
    "# 精度検証\n",
    "def eval_accuracy_score(model, val_X, val_y, judge_pred):\n",
    "    model_pred_proba = model.predict(val_X)\n",
    "    model_pred = (model_pred_proba > judge_pred).astype(int)  # 予測確率をクラスに変換\n",
    "    mean_f1 = np.mean([f1_score(val_y, model_pred, average=None)])\n",
    "    print(f'accuracy_score: {accuracy_score(model_pred, val_y)}')\n",
    "    print(f'mean_f1_score: {mean_f1}')"
   ]
  },
  {
   "cell_type": "code",
   "execution_count": 123,
   "id": "cb4b57eb-310a-45e9-8c94-e962606929f0",
   "metadata": {
    "tags": []
   },
   "outputs": [],
   "source": [
    "def model_train(x, y, judge_pred):\n",
    "    model, val_x, val_y, best_params = model_learning(x, y)\n",
    "    eval_accuracy_score(model, val_x, val_y, judge_pred)\n",
    "    return model"
   ]
  },
  {
   "cell_type": "code",
   "execution_count": 124,
   "id": "48f3510c-003c-45b0-bc84-5dfc94e08440",
   "metadata": {
    "tags": []
   },
   "outputs": [],
   "source": [
    "def test_submission(x, y, judge_pred):\n",
    "    model = model_train(x, y, judge_pred)\n",
    "    test_pred_proba = model.predict(prepro_test)\n",
    "    test_pred = (test_pred_proba > judge_pred).astype(int)\n",
    "    return test_pred, model"
   ]
  },
  {
   "cell_type": "code",
   "execution_count": 125,
   "id": "eb17281f-946b-474c-8f5a-ba6791171c34",
   "metadata": {
    "tags": []
   },
   "outputs": [
    {
     "name": "stderr",
     "output_type": "stream",
     "text": [
      "[I 2024-02-10 17:03:02,124] A new study created in memory with name: no-name-76abb43d-9449-424d-ae0b-cdc49e001800\n",
      "\n",
      "\n",
      "  0%|          | 0/7 [00:00<?, ?it/s]\u001b[A\u001b[A\n",
      "\n",
      "feature_fraction, val_score: -inf:   0%|          | 0/7 [00:00<?, ?it/s]\u001b[A\u001b[A"
     ]
    },
    {
     "name": "stdout",
     "output_type": "stream",
     "text": [
      "[LightGBM] [Info] Number of positive: 28328, number of negative: 3402\n",
      "[LightGBM] [Warning] Auto-choosing col-wise multi-threading, the overhead of testing was 0.008647 seconds.\n",
      "You can set `force_col_wise=true` to remove the overhead.\n",
      "[LightGBM] [Info] Total Bins 4895\n",
      "[LightGBM] [Info] Number of data points in the train set: 31730, number of used features: 37\n",
      "[LightGBM] [Info] [binary:BoostFromScore]: pavg=0.892783 -> initscore=2.119487\n",
      "[LightGBM] [Info] Start training from score 2.119487\n"
     ]
    },
    {
     "name": "stderr",
     "output_type": "stream",
     "text": [
      "\n",
      "\n",
      "feature_fraction, val_score: 0.778629:   0%|          | 0/7 [00:01<?, ?it/s]\u001b[A\u001b[A\n",
      "\n",
      "feature_fraction, val_score: 0.778629:  14%|#4        | 1/7 [00:01<00:06,  1.01s/it]\u001b[A\u001b[A[I 2024-02-10 17:03:03,153] Trial 0 finished with value: 0.778629255914073 and parameters: {'feature_fraction': 0.8999999999999999}. Best is trial 0 with value: 0.778629255914073.\n",
      "\n",
      "\n",
      "feature_fraction, val_score: 0.778629:  14%|#4        | 1/7 [00:01<00:06,  1.01s/it]\u001b[A\u001b[A"
     ]
    },
    {
     "name": "stdout",
     "output_type": "stream",
     "text": [
      "[LightGBM] [Info] Number of positive: 28328, number of negative: 3402\n",
      "[LightGBM] [Warning] Auto-choosing col-wise multi-threading, the overhead of testing was 0.014924 seconds.\n",
      "You can set `force_col_wise=true` to remove the overhead.\n",
      "[LightGBM] [Info] Total Bins 4895\n",
      "[LightGBM] [Info] Number of data points in the train set: 31730, number of used features: 37\n",
      "[LightGBM] [Info] [binary:BoostFromScore]: pavg=0.892783 -> initscore=2.119487\n",
      "[LightGBM] [Info] Start training from score 2.119487\n"
     ]
    },
    {
     "name": "stderr",
     "output_type": "stream",
     "text": [
      "\n",
      "\n",
      "feature_fraction, val_score: 0.782285:  14%|#4        | 1/7 [00:01<00:06,  1.01s/it]\u001b[A\u001b[A\n",
      "\n",
      "feature_fraction, val_score: 0.782285:  29%|##8       | 2/7 [00:01<00:04,  1.10it/s]\u001b[A\u001b[A[I 2024-02-10 17:03:03,987] Trial 1 finished with value: 0.7822854212722111 and parameters: {'feature_fraction': 0.4}. Best is trial 1 with value: 0.7822854212722111.\n",
      "\n",
      "\n",
      "feature_fraction, val_score: 0.782285:  29%|##8       | 2/7 [00:01<00:04,  1.10it/s]\u001b[A\u001b[A"
     ]
    },
    {
     "name": "stdout",
     "output_type": "stream",
     "text": [
      "[LightGBM] [Info] Number of positive: 28328, number of negative: 3402\n",
      "[LightGBM] [Warning] Auto-choosing col-wise multi-threading, the overhead of testing was 0.004695 seconds.\n",
      "You can set `force_col_wise=true` to remove the overhead.\n",
      "[LightGBM] [Info] Total Bins 4895\n",
      "[LightGBM] [Info] Number of data points in the train set: 31730, number of used features: 37\n",
      "[LightGBM] [Info] [binary:BoostFromScore]: pavg=0.892783 -> initscore=2.119487\n",
      "[LightGBM] [Info] Start training from score 2.119487\n"
     ]
    },
    {
     "name": "stderr",
     "output_type": "stream",
     "text": [
      "\n",
      "\n",
      "feature_fraction, val_score: 0.782285:  29%|##8       | 2/7 [00:02<00:04,  1.10it/s]\u001b[A\u001b[A\n",
      "\n",
      "feature_fraction, val_score: 0.782285:  43%|####2     | 3/7 [00:02<00:03,  1.25it/s]\u001b[A\u001b[A[I 2024-02-10 17:03:04,677] Trial 2 finished with value: 0.7772902538937002 and parameters: {'feature_fraction': 0.6}. Best is trial 1 with value: 0.7822854212722111.\n",
      "\n",
      "\n",
      "feature_fraction, val_score: 0.782285:  43%|####2     | 3/7 [00:02<00:03,  1.25it/s]\u001b[A\u001b[A"
     ]
    },
    {
     "name": "stdout",
     "output_type": "stream",
     "text": [
      "[LightGBM] [Info] Number of positive: 28328, number of negative: 3402\n",
      "[LightGBM] [Warning] Auto-choosing row-wise multi-threading, the overhead of testing was 0.001546 seconds.\n",
      "You can set `force_row_wise=true` to remove the overhead.\n",
      "And if memory is not enough, you can set `force_col_wise=true`.\n",
      "[LightGBM] [Info] Total Bins 4895\n",
      "[LightGBM] [Info] Number of data points in the train set: 31730, number of used features: 37\n",
      "[LightGBM] [Info] [binary:BoostFromScore]: pavg=0.892783 -> initscore=2.119487\n",
      "[LightGBM] [Info] Start training from score 2.119487\n"
     ]
    },
    {
     "name": "stderr",
     "output_type": "stream",
     "text": [
      "\n",
      "\n",
      "feature_fraction, val_score: 0.782285:  43%|####2     | 3/7 [00:03<00:03,  1.25it/s]\u001b[A\u001b[A\n",
      "\n",
      "feature_fraction, val_score: 0.782285:  57%|#####7    | 4/7 [00:03<00:02,  1.27it/s]\u001b[A\u001b[A[I 2024-02-10 17:03:05,435] Trial 3 finished with value: 0.7790674129751093 and parameters: {'feature_fraction': 0.5}. Best is trial 1 with value: 0.7822854212722111.\n",
      "\n",
      "\n",
      "feature_fraction, val_score: 0.782285:  57%|#####7    | 4/7 [00:03<00:02,  1.27it/s]\u001b[A\u001b[A"
     ]
    },
    {
     "name": "stdout",
     "output_type": "stream",
     "text": [
      "[LightGBM] [Info] Number of positive: 28328, number of negative: 3402\n",
      "[LightGBM] [Warning] Auto-choosing col-wise multi-threading, the overhead of testing was 0.004616 seconds.\n",
      "You can set `force_col_wise=true` to remove the overhead.\n",
      "[LightGBM] [Info] Total Bins 4895\n",
      "[LightGBM] [Info] Number of data points in the train set: 31730, number of used features: 37\n",
      "[LightGBM] [Info] [binary:BoostFromScore]: pavg=0.892783 -> initscore=2.119487\n",
      "[LightGBM] [Info] Start training from score 2.119487\n"
     ]
    },
    {
     "name": "stderr",
     "output_type": "stream",
     "text": [
      "\n",
      "\n",
      "feature_fraction, val_score: 0.782285:  57%|#####7    | 4/7 [00:03<00:02,  1.27it/s]\u001b[A\u001b[A\n",
      "\n",
      "feature_fraction, val_score: 0.782285:  71%|#######1  | 5/7 [00:03<00:01,  1.32it/s]\u001b[A\u001b[A[I 2024-02-10 17:03:06,138] Trial 4 finished with value: 0.7815957649441209 and parameters: {'feature_fraction': 0.7}. Best is trial 1 with value: 0.7822854212722111.\n",
      "\n",
      "\n",
      "feature_fraction, val_score: 0.782285:  71%|#######1  | 5/7 [00:03<00:01,  1.32it/s]\u001b[A\u001b[A"
     ]
    },
    {
     "name": "stdout",
     "output_type": "stream",
     "text": [
      "[LightGBM] [Info] Number of positive: 28328, number of negative: 3402\n",
      "[LightGBM] [Warning] Auto-choosing col-wise multi-threading, the overhead of testing was 0.004857 seconds.\n",
      "You can set `force_col_wise=true` to remove the overhead.\n",
      "[LightGBM] [Info] Total Bins 4895\n",
      "[LightGBM] [Info] Number of data points in the train set: 31730, number of used features: 37\n",
      "[LightGBM] [Info] [binary:BoostFromScore]: pavg=0.892783 -> initscore=2.119487\n",
      "[LightGBM] [Info] Start training from score 2.119487\n"
     ]
    },
    {
     "name": "stderr",
     "output_type": "stream",
     "text": [
      "\n",
      "\n",
      "feature_fraction, val_score: 0.782285:  71%|#######1  | 5/7 [00:04<00:01,  1.32it/s]\u001b[A\u001b[A\n",
      "\n",
      "feature_fraction, val_score: 0.782285:  86%|########5 | 6/7 [00:04<00:00,  1.30it/s]\u001b[A\u001b[A[I 2024-02-10 17:03:06,925] Trial 5 finished with value: 0.7769189864211808 and parameters: {'feature_fraction': 1.0}. Best is trial 1 with value: 0.7822854212722111.\n",
      "\n",
      "\n",
      "feature_fraction, val_score: 0.782285:  86%|########5 | 6/7 [00:04<00:00,  1.30it/s]\u001b[A\u001b[A"
     ]
    },
    {
     "name": "stdout",
     "output_type": "stream",
     "text": [
      "[LightGBM] [Info] Number of positive: 28328, number of negative: 3402\n",
      "[LightGBM] [Warning] Auto-choosing col-wise multi-threading, the overhead of testing was 0.006678 seconds.\n",
      "You can set `force_col_wise=true` to remove the overhead.\n",
      "[LightGBM] [Info] Total Bins 4895\n",
      "[LightGBM] [Info] Number of data points in the train set: 31730, number of used features: 37\n",
      "[LightGBM] [Info] [binary:BoostFromScore]: pavg=0.892783 -> initscore=2.119487\n",
      "[LightGBM] [Info] Start training from score 2.119487\n"
     ]
    },
    {
     "name": "stderr",
     "output_type": "stream",
     "text": [
      "\n",
      "\n",
      "feature_fraction, val_score: 0.782285:  86%|########5 | 6/7 [00:05<00:00,  1.30it/s]\u001b[A\u001b[A\n",
      "\n",
      "feature_fraction, val_score: 0.782285: 100%|##########| 7/7 [00:05<00:00,  1.31it/s]\u001b[A\u001b[A[I 2024-02-10 17:03:07,691] Trial 6 finished with value: 0.7789224157112052 and parameters: {'feature_fraction': 0.8}. Best is trial 1 with value: 0.7822854212722111.\n",
      "feature_fraction, val_score: 0.782285: 100%|##########| 7/7 [00:05<00:00,  1.26it/s]\n",
      "\n",
      "\n",
      "  0%|          | 0/20 [00:00<?, ?it/s]\u001b[A\u001b[A\n",
      "\n",
      "num_leaves, val_score: 0.782285:   0%|          | 0/20 [00:00<?, ?it/s]\u001b[A\u001b[A"
     ]
    },
    {
     "name": "stdout",
     "output_type": "stream",
     "text": [
      "[LightGBM] [Info] Number of positive: 28328, number of negative: 3402\n",
      "[LightGBM] [Warning] Auto-choosing col-wise multi-threading, the overhead of testing was 0.004097 seconds.\n",
      "You can set `force_col_wise=true` to remove the overhead.\n",
      "[LightGBM] [Info] Total Bins 4895\n",
      "[LightGBM] [Info] Number of data points in the train set: 31730, number of used features: 37\n",
      "[LightGBM] [Info] [binary:BoostFromScore]: pavg=0.892783 -> initscore=2.119487\n",
      "[LightGBM] [Info] Start training from score 2.119487\n"
     ]
    },
    {
     "name": "stderr",
     "output_type": "stream",
     "text": [
      "\n",
      "\n",
      "num_leaves, val_score: 0.782285:   0%|          | 0/20 [00:01<?, ?it/s]\u001b[A\u001b[A\n",
      "\n",
      "num_leaves, val_score: 0.782285:   5%|5         | 1/20 [00:01<00:22,  1.16s/it]\u001b[A\u001b[A[I 2024-02-10 17:03:08,861] Trial 7 finished with value: 0.7760752559539181 and parameters: {'num_leaves': 128}. Best is trial 7 with value: 0.7760752559539181.\n",
      "\n",
      "\n",
      "num_leaves, val_score: 0.782285:   5%|5         | 1/20 [00:01<00:22,  1.16s/it]\u001b[A\u001b[A"
     ]
    },
    {
     "name": "stdout",
     "output_type": "stream",
     "text": [
      "[LightGBM] [Info] Number of positive: 28328, number of negative: 3402\n",
      "[LightGBM] [Warning] Auto-choosing col-wise multi-threading, the overhead of testing was 0.003961 seconds.\n",
      "You can set `force_col_wise=true` to remove the overhead.\n",
      "[LightGBM] [Info] Total Bins 4895\n",
      "[LightGBM] [Info] Number of data points in the train set: 31730, number of used features: 37\n",
      "[LightGBM] [Info] [binary:BoostFromScore]: pavg=0.892783 -> initscore=2.119487\n",
      "[LightGBM] [Info] Start training from score 2.119487\n"
     ]
    },
    {
     "name": "stderr",
     "output_type": "stream",
     "text": [
      "\n",
      "\n",
      "num_leaves, val_score: 0.782285:   5%|5         | 1/20 [00:02<00:22,  1.16s/it]\u001b[A\u001b[A\n",
      "\n",
      "num_leaves, val_score: 0.782285:  10%|#         | 2/20 [00:02<00:27,  1.53s/it]\u001b[A\u001b[A[I 2024-02-10 17:03:10,651] Trial 8 finished with value: 0.7700769774880459 and parameters: {'num_leaves': 256}. Best is trial 7 with value: 0.7760752559539181.\n",
      "\n",
      "\n",
      "num_leaves, val_score: 0.782285:  10%|#         | 2/20 [00:02<00:27,  1.53s/it]\u001b[A\u001b[A"
     ]
    },
    {
     "name": "stdout",
     "output_type": "stream",
     "text": [
      "[LightGBM] [Info] Number of positive: 28328, number of negative: 3402\n",
      "[LightGBM] [Warning] Auto-choosing col-wise multi-threading, the overhead of testing was 0.005861 seconds.\n",
      "You can set `force_col_wise=true` to remove the overhead.\n",
      "[LightGBM] [Info] Total Bins 4895\n",
      "[LightGBM] [Info] Number of data points in the train set: 31730, number of used features: 37\n",
      "[LightGBM] [Info] [binary:BoostFromScore]: pavg=0.892783 -> initscore=2.119487\n",
      "[LightGBM] [Info] Start training from score 2.119487\n"
     ]
    },
    {
     "name": "stderr",
     "output_type": "stream",
     "text": [
      "\n",
      "\n",
      "num_leaves, val_score: 0.782285:  10%|#         | 2/20 [00:04<00:27,  1.53s/it]\u001b[A\u001b[A\n",
      "\n",
      "num_leaves, val_score: 0.782285:  15%|#5        | 3/20 [00:04<00:22,  1.34s/it]\u001b[A\u001b[A[I 2024-02-10 17:03:11,772] Trial 9 finished with value: 0.7750658608759864 and parameters: {'num_leaves': 101}. Best is trial 7 with value: 0.7760752559539181.\n",
      "\n",
      "\n",
      "num_leaves, val_score: 0.782285:  15%|#5        | 3/20 [00:04<00:22,  1.34s/it]\u001b[A\u001b[A"
     ]
    },
    {
     "name": "stdout",
     "output_type": "stream",
     "text": [
      "[LightGBM] [Info] Number of positive: 28328, number of negative: 3402\n",
      "[LightGBM] [Warning] Auto-choosing col-wise multi-threading, the overhead of testing was 0.004961 seconds.\n",
      "You can set `force_col_wise=true` to remove the overhead.\n",
      "[LightGBM] [Info] Total Bins 4895\n",
      "[LightGBM] [Info] Number of data points in the train set: 31730, number of used features: 37\n",
      "[LightGBM] [Info] [binary:BoostFromScore]: pavg=0.892783 -> initscore=2.119487\n",
      "[LightGBM] [Info] Start training from score 2.119487\n"
     ]
    },
    {
     "name": "stderr",
     "output_type": "stream",
     "text": [
      "\n",
      "\n",
      "num_leaves, val_score: 0.782795:  15%|#5        | 3/20 [00:04<00:22,  1.34s/it]\u001b[A\u001b[A\n",
      "\n",
      "num_leaves, val_score: 0.782795:  20%|##        | 4/20 [00:04<00:17,  1.09s/it]\u001b[A\u001b[A[I 2024-02-10 17:03:12,480] Trial 10 finished with value: 0.782795402018064 and parameters: {'num_leaves': 9}. Best is trial 10 with value: 0.782795402018064.\n",
      "\n",
      "\n",
      "num_leaves, val_score: 0.782795:  20%|##        | 4/20 [00:04<00:17,  1.09s/it]\u001b[A\u001b[A"
     ]
    },
    {
     "name": "stdout",
     "output_type": "stream",
     "text": [
      "[LightGBM] [Info] Number of positive: 28328, number of negative: 3402\n",
      "[LightGBM] [Warning] Auto-choosing col-wise multi-threading, the overhead of testing was 0.006592 seconds.\n",
      "You can set `force_col_wise=true` to remove the overhead.\n",
      "[LightGBM] [Info] Total Bins 4895\n",
      "[LightGBM] [Info] Number of data points in the train set: 31730, number of used features: 37\n",
      "[LightGBM] [Info] [binary:BoostFromScore]: pavg=0.892783 -> initscore=2.119487\n",
      "[LightGBM] [Info] Start training from score 2.119487\n"
     ]
    },
    {
     "name": "stderr",
     "output_type": "stream",
     "text": [
      "\n",
      "\n",
      "num_leaves, val_score: 0.782795:  20%|##        | 4/20 [00:05<00:17,  1.09s/it]\u001b[A\u001b[A\n",
      "\n",
      "num_leaves, val_score: 0.782795:  25%|##5       | 5/20 [00:05<00:14,  1.06it/s]\u001b[A\u001b[A[I 2024-02-10 17:03:13,147] Trial 11 finished with value: 0.7814635684017494 and parameters: {'num_leaves': 5}. Best is trial 10 with value: 0.782795402018064.\n",
      "\n",
      "\n",
      "num_leaves, val_score: 0.782795:  25%|##5       | 5/20 [00:05<00:14,  1.06it/s]\u001b[A\u001b[A"
     ]
    },
    {
     "name": "stdout",
     "output_type": "stream",
     "text": [
      "[LightGBM] [Info] Number of positive: 28328, number of negative: 3402\n",
      "[LightGBM] [Warning] Auto-choosing col-wise multi-threading, the overhead of testing was 0.006806 seconds.\n",
      "You can set `force_col_wise=true` to remove the overhead.\n",
      "[LightGBM] [Info] Total Bins 4895\n",
      "[LightGBM] [Info] Number of data points in the train set: 31730, number of used features: 37\n",
      "[LightGBM] [Info] [binary:BoostFromScore]: pavg=0.892783 -> initscore=2.119487\n",
      "[LightGBM] [Info] Start training from score 2.119487\n"
     ]
    },
    {
     "name": "stderr",
     "output_type": "stream",
     "text": [
      "\n",
      "\n",
      "num_leaves, val_score: 0.782795:  25%|##5       | 5/20 [00:06<00:14,  1.06it/s]\u001b[A\u001b[A\n",
      "\n",
      "num_leaves, val_score: 0.782795:  30%|###       | 6/20 [00:06<00:13,  1.04it/s]\u001b[A\u001b[A[I 2024-02-10 17:03:14,158] Trial 12 finished with value: 0.7783298586744485 and parameters: {'num_leaves': 32}. Best is trial 10 with value: 0.782795402018064.\n",
      "\n",
      "\n",
      "num_leaves, val_score: 0.782795:  30%|###       | 6/20 [00:06<00:13,  1.04it/s]\u001b[A\u001b[A"
     ]
    },
    {
     "name": "stdout",
     "output_type": "stream",
     "text": [
      "[LightGBM] [Info] Number of positive: 28328, number of negative: 3402\n",
      "[LightGBM] [Warning] Auto-choosing col-wise multi-threading, the overhead of testing was 0.009236 seconds.\n",
      "You can set `force_col_wise=true` to remove the overhead.\n",
      "[LightGBM] [Info] Total Bins 4895\n",
      "[LightGBM] [Info] Number of data points in the train set: 31730, number of used features: 37\n",
      "[LightGBM] [Info] [binary:BoostFromScore]: pavg=0.892783 -> initscore=2.119487\n",
      "[LightGBM] [Info] Start training from score 2.119487\n"
     ]
    },
    {
     "name": "stderr",
     "output_type": "stream",
     "text": [
      "\n",
      "\n",
      "num_leaves, val_score: 0.782795:  30%|###       | 6/20 [00:08<00:13,  1.04it/s]\u001b[A\u001b[A\n",
      "\n",
      "num_leaves, val_score: 0.782795:  35%|###5      | 7/20 [00:08<00:17,  1.33s/it]\u001b[A\u001b[A[I 2024-02-10 17:03:16,230] Trial 13 finished with value: 0.7674561344874526 and parameters: {'num_leaves': 223}. Best is trial 10 with value: 0.782795402018064.\n",
      "\n",
      "\n",
      "num_leaves, val_score: 0.782795:  35%|###5      | 7/20 [00:08<00:17,  1.33s/it]\u001b[A\u001b[A"
     ]
    },
    {
     "name": "stdout",
     "output_type": "stream",
     "text": [
      "[LightGBM] [Info] Number of positive: 28328, number of negative: 3402\n",
      "[LightGBM] [Warning] Auto-choosing col-wise multi-threading, the overhead of testing was 0.005782 seconds.\n",
      "You can set `force_col_wise=true` to remove the overhead.\n",
      "[LightGBM] [Info] Total Bins 4895\n",
      "[LightGBM] [Info] Number of data points in the train set: 31730, number of used features: 37\n",
      "[LightGBM] [Info] [binary:BoostFromScore]: pavg=0.892783 -> initscore=2.119487\n",
      "[LightGBM] [Info] Start training from score 2.119487\n"
     ]
    },
    {
     "name": "stderr",
     "output_type": "stream",
     "text": [
      "\n",
      "\n",
      "num_leaves, val_score: 0.782795:  35%|###5      | 7/20 [00:09<00:17,  1.33s/it]\u001b[A\u001b[A\n",
      "\n",
      "num_leaves, val_score: 0.782795:  40%|####      | 8/20 [00:09<00:15,  1.25s/it]\u001b[A\u001b[A[I 2024-02-10 17:03:17,346] Trial 14 finished with value: 0.7784631258226209 and parameters: {'num_leaves': 66}. Best is trial 10 with value: 0.782795402018064.\n",
      "\n",
      "\n",
      "num_leaves, val_score: 0.782795:  40%|####      | 8/20 [00:09<00:15,  1.25s/it]\u001b[A\u001b[A"
     ]
    },
    {
     "name": "stdout",
     "output_type": "stream",
     "text": [
      "[LightGBM] [Info] Number of positive: 28328, number of negative: 3402\n",
      "[LightGBM] [Warning] Auto-choosing col-wise multi-threading, the overhead of testing was 0.006601 seconds.\n",
      "You can set `force_col_wise=true` to remove the overhead.\n",
      "[LightGBM] [Info] Total Bins 4895\n",
      "[LightGBM] [Info] Number of data points in the train set: 31730, number of used features: 37\n",
      "[LightGBM] [Info] [binary:BoostFromScore]: pavg=0.892783 -> initscore=2.119487\n",
      "[LightGBM] [Info] Start training from score 2.119487\n"
     ]
    },
    {
     "name": "stderr",
     "output_type": "stream",
     "text": [
      "\n",
      "\n",
      "num_leaves, val_score: 0.782795:  40%|####      | 8/20 [00:11<00:15,  1.25s/it]\u001b[A\u001b[A\n",
      "\n",
      "num_leaves, val_score: 0.782795:  45%|####5     | 9/20 [00:11<00:15,  1.44s/it]\u001b[A\u001b[A[I 2024-02-10 17:03:19,178] Trial 15 finished with value: 0.7661403599581514 and parameters: {'num_leaves': 184}. Best is trial 10 with value: 0.782795402018064.\n",
      "\n",
      "\n",
      "num_leaves, val_score: 0.782795:  45%|####5     | 9/20 [00:11<00:15,  1.44s/it]\u001b[A\u001b[A"
     ]
    },
    {
     "name": "stdout",
     "output_type": "stream",
     "text": [
      "[LightGBM] [Info] Number of positive: 28328, number of negative: 3402\n",
      "[LightGBM] [Warning] Auto-choosing col-wise multi-threading, the overhead of testing was 0.012909 seconds.\n",
      "You can set `force_col_wise=true` to remove the overhead.\n",
      "[LightGBM] [Info] Total Bins 4895\n",
      "[LightGBM] [Info] Number of data points in the train set: 31730, number of used features: 37\n",
      "[LightGBM] [Info] [binary:BoostFromScore]: pavg=0.892783 -> initscore=2.119487\n",
      "[LightGBM] [Info] Start training from score 2.119487\n"
     ]
    },
    {
     "name": "stderr",
     "output_type": "stream",
     "text": [
      "\n",
      "\n",
      "num_leaves, val_score: 0.782795:  45%|####5     | 9/20 [00:13<00:15,  1.44s/it]\u001b[A\u001b[A\n",
      "\n",
      "num_leaves, val_score: 0.782795:  50%|#####     | 10/20 [00:13<00:14,  1.47s/it]\u001b[A\u001b[A[I 2024-02-10 17:03:20,746] Trial 16 finished with value: 0.7676652750032537 and parameters: {'num_leaves': 165}. Best is trial 10 with value: 0.782795402018064.\n",
      "\n",
      "\n",
      "num_leaves, val_score: 0.782795:  50%|#####     | 10/20 [00:13<00:14,  1.47s/it]\u001b[A\u001b[A"
     ]
    },
    {
     "name": "stdout",
     "output_type": "stream",
     "text": [
      "[LightGBM] [Info] Number of positive: 28328, number of negative: 3402\n",
      "[LightGBM] [Warning] Auto-choosing col-wise multi-threading, the overhead of testing was 0.006800 seconds.\n",
      "You can set `force_col_wise=true` to remove the overhead.\n",
      "[LightGBM] [Info] Total Bins 4895\n",
      "[LightGBM] [Info] Number of data points in the train set: 31730, number of used features: 37\n",
      "[LightGBM] [Info] [binary:BoostFromScore]: pavg=0.892783 -> initscore=2.119487\n",
      "[LightGBM] [Info] Start training from score 2.119487\n"
     ]
    },
    {
     "name": "stderr",
     "output_type": "stream",
     "text": [
      "\n",
      "\n",
      "num_leaves, val_score: 0.782795:  50%|#####     | 10/20 [00:13<00:14,  1.47s/it]\u001b[A\u001b[A\n",
      "\n",
      "num_leaves, val_score: 0.782795:  55%|#####5    | 11/20 [00:13<00:11,  1.28s/it]\u001b[A\u001b[A[I 2024-02-10 17:03:21,582] Trial 17 finished with value: 0.7780571800317682 and parameters: {'num_leaves': 71}. Best is trial 10 with value: 0.782795402018064.\n",
      "\n",
      "\n",
      "num_leaves, val_score: 0.782795:  55%|#####5    | 11/20 [00:13<00:11,  1.28s/it]\u001b[A\u001b[A"
     ]
    },
    {
     "name": "stdout",
     "output_type": "stream",
     "text": [
      "[LightGBM] [Info] Number of positive: 28328, number of negative: 3402\n",
      "[LightGBM] [Warning] Auto-choosing row-wise multi-threading, the overhead of testing was 0.001441 seconds.\n",
      "You can set `force_row_wise=true` to remove the overhead.\n",
      "And if memory is not enough, you can set `force_col_wise=true`.\n",
      "[LightGBM] [Info] Total Bins 4895\n",
      "[LightGBM] [Info] Number of data points in the train set: 31730, number of used features: 37\n",
      "[LightGBM] [Info] [binary:BoostFromScore]: pavg=0.892783 -> initscore=2.119487\n",
      "[LightGBM] [Info] Start training from score 2.119487\n"
     ]
    },
    {
     "name": "stderr",
     "output_type": "stream",
     "text": [
      "\n",
      "\n",
      "num_leaves, val_score: 0.782795:  55%|#####5    | 11/20 [00:14<00:11,  1.28s/it]\u001b[A\u001b[A\n",
      "\n",
      "num_leaves, val_score: 0.782795:  60%|######    | 12/20 [00:14<00:08,  1.05s/it]\u001b[A\u001b[A[I 2024-02-10 17:03:22,098] Trial 18 finished with value: 0.7814635684017494 and parameters: {'num_leaves': 5}. Best is trial 10 with value: 0.782795402018064.\n",
      "\n",
      "\n",
      "num_leaves, val_score: 0.782795:  60%|######    | 12/20 [00:14<00:08,  1.05s/it]\u001b[A\u001b[A"
     ]
    },
    {
     "name": "stdout",
     "output_type": "stream",
     "text": [
      "[LightGBM] [Info] Number of positive: 28328, number of negative: 3402\n",
      "[LightGBM] [Warning] Auto-choosing col-wise multi-threading, the overhead of testing was 0.004168 seconds.\n",
      "You can set `force_col_wise=true` to remove the overhead.\n",
      "[LightGBM] [Info] Total Bins 4895\n",
      "[LightGBM] [Info] Number of data points in the train set: 31730, number of used features: 37\n",
      "[LightGBM] [Info] [binary:BoostFromScore]: pavg=0.892783 -> initscore=2.119487\n",
      "[LightGBM] [Info] Start training from score 2.119487\n"
     ]
    },
    {
     "name": "stderr",
     "output_type": "stream",
     "text": [
      "\n",
      "\n",
      "num_leaves, val_score: 0.782795:  60%|######    | 12/20 [00:15<00:08,  1.05s/it]\u001b[A\u001b[A\n",
      "\n",
      "num_leaves, val_score: 0.782795:  65%|######5   | 13/20 [00:15<00:06,  1.04it/s]\u001b[A\u001b[A[I 2024-02-10 17:03:22,865] Trial 19 finished with value: 0.7772232246609484 and parameters: {'num_leaves': 52}. Best is trial 10 with value: 0.782795402018064.\n",
      "\n",
      "\n",
      "num_leaves, val_score: 0.782795:  65%|######5   | 13/20 [00:15<00:06,  1.04it/s]\u001b[A\u001b[A"
     ]
    },
    {
     "name": "stdout",
     "output_type": "stream",
     "text": [
      "[LightGBM] [Info] Number of positive: 28328, number of negative: 3402\n",
      "[LightGBM] [Warning] Auto-choosing col-wise multi-threading, the overhead of testing was 0.006816 seconds.\n",
      "You can set `force_col_wise=true` to remove the overhead.\n",
      "[LightGBM] [Info] Total Bins 4895\n",
      "[LightGBM] [Info] Number of data points in the train set: 31730, number of used features: 37\n",
      "[LightGBM] [Info] [binary:BoostFromScore]: pavg=0.892783 -> initscore=2.119487\n",
      "[LightGBM] [Info] Start training from score 2.119487\n"
     ]
    },
    {
     "name": "stderr",
     "output_type": "stream",
     "text": [
      "\n",
      "\n",
      "num_leaves, val_score: 0.782795:  65%|######5   | 13/20 [00:16<00:06,  1.04it/s]\u001b[A\u001b[A\n",
      "\n",
      "num_leaves, val_score: 0.782795:  70%|#######   | 14/20 [00:16<00:05,  1.05it/s]\u001b[A\u001b[A[I 2024-02-10 17:03:23,779] Trial 20 finished with value: 0.7759048899873408 and parameters: {'num_leaves': 96}. Best is trial 10 with value: 0.782795402018064.\n",
      "\n",
      "\n",
      "num_leaves, val_score: 0.782795:  70%|#######   | 14/20 [00:16<00:05,  1.05it/s]\u001b[A\u001b[A"
     ]
    },
    {
     "name": "stdout",
     "output_type": "stream",
     "text": [
      "[LightGBM] [Info] Number of positive: 28328, number of negative: 3402\n",
      "[LightGBM] [Warning] Auto-choosing col-wise multi-threading, the overhead of testing was 0.004727 seconds.\n",
      "You can set `force_col_wise=true` to remove the overhead.\n",
      "[LightGBM] [Info] Total Bins 4895\n",
      "[LightGBM] [Info] Number of data points in the train set: 31730, number of used features: 37\n",
      "[LightGBM] [Info] [binary:BoostFromScore]: pavg=0.892783 -> initscore=2.119487\n",
      "[LightGBM] [Info] Start training from score 2.119487\n"
     ]
    },
    {
     "name": "stderr",
     "output_type": "stream",
     "text": [
      "\n",
      "\n",
      "num_leaves, val_score: 0.782795:  70%|#######   | 14/20 [00:17<00:05,  1.05it/s]\u001b[A\u001b[A\n",
      "\n",
      "num_leaves, val_score: 0.782795:  75%|#######5  | 15/20 [00:17<00:05,  1.04s/it]\u001b[A\u001b[A[I 2024-02-10 17:03:25,029] Trial 21 finished with value: 0.7670201186380181 and parameters: {'num_leaves': 161}. Best is trial 10 with value: 0.782795402018064.\n",
      "\n",
      "\n",
      "num_leaves, val_score: 0.782795:  75%|#######5  | 15/20 [00:17<00:05,  1.04s/it]\u001b[A\u001b[A"
     ]
    },
    {
     "name": "stdout",
     "output_type": "stream",
     "text": [
      "[LightGBM] [Info] Number of positive: 28328, number of negative: 3402\n",
      "[LightGBM] [Warning] Auto-choosing col-wise multi-threading, the overhead of testing was 0.004493 seconds.\n",
      "You can set `force_col_wise=true` to remove the overhead.\n",
      "[LightGBM] [Info] Total Bins 4895\n",
      "[LightGBM] [Info] Number of data points in the train set: 31730, number of used features: 37\n",
      "[LightGBM] [Info] [binary:BoostFromScore]: pavg=0.892783 -> initscore=2.119487\n",
      "[LightGBM] [Info] Start training from score 2.119487\n"
     ]
    },
    {
     "name": "stderr",
     "output_type": "stream",
     "text": [
      "\n",
      "\n",
      "num_leaves, val_score: 0.782795:  75%|#######5  | 15/20 [00:18<00:05,  1.04s/it]\u001b[A\u001b[A\n",
      "\n",
      "num_leaves, val_score: 0.782795:  80%|########  | 16/20 [00:18<00:04,  1.07s/it]\u001b[A\u001b[A[I 2024-02-10 17:03:26,163] Trial 22 finished with value: 0.7731973744649531 and parameters: {'num_leaves': 123}. Best is trial 10 with value: 0.782795402018064.\n",
      "\n",
      "\n",
      "num_leaves, val_score: 0.782795:  80%|########  | 16/20 [00:18<00:04,  1.07s/it]\u001b[A\u001b[A"
     ]
    },
    {
     "name": "stdout",
     "output_type": "stream",
     "text": [
      "[LightGBM] [Info] Number of positive: 28328, number of negative: 3402\n",
      "[LightGBM] [Warning] Auto-choosing col-wise multi-threading, the overhead of testing was 0.004100 seconds.\n",
      "You can set `force_col_wise=true` to remove the overhead.\n",
      "[LightGBM] [Info] Total Bins 4895\n",
      "[LightGBM] [Info] Number of data points in the train set: 31730, number of used features: 37\n",
      "[LightGBM] [Info] [binary:BoostFromScore]: pavg=0.892783 -> initscore=2.119487\n",
      "[LightGBM] [Info] Start training from score 2.119487\n"
     ]
    },
    {
     "name": "stderr",
     "output_type": "stream",
     "text": [
      "\n",
      "\n",
      "num_leaves, val_score: 0.782795:  80%|########  | 16/20 [00:19<00:04,  1.07s/it]\u001b[A\u001b[A\n",
      "\n",
      "num_leaves, val_score: 0.782795:  85%|########5 | 17/20 [00:19<00:03,  1.15s/it]\u001b[A\u001b[A[I 2024-02-10 17:03:27,505] Trial 23 finished with value: 0.7689836562249397 and parameters: {'num_leaves': 196}. Best is trial 10 with value: 0.782795402018064.\n",
      "\n",
      "\n",
      "num_leaves, val_score: 0.782795:  85%|########5 | 17/20 [00:19<00:03,  1.15s/it]\u001b[A\u001b[A"
     ]
    },
    {
     "name": "stdout",
     "output_type": "stream",
     "text": [
      "[LightGBM] [Info] Number of positive: 28328, number of negative: 3402\n",
      "[LightGBM] [Warning] Auto-choosing row-wise multi-threading, the overhead of testing was 0.001704 seconds.\n",
      "You can set `force_row_wise=true` to remove the overhead.\n",
      "And if memory is not enough, you can set `force_col_wise=true`.\n",
      "[LightGBM] [Info] Total Bins 4895\n",
      "[LightGBM] [Info] Number of data points in the train set: 31730, number of used features: 37\n",
      "[LightGBM] [Info] [binary:BoostFromScore]: pavg=0.892783 -> initscore=2.119487\n",
      "[LightGBM] [Info] Start training from score 2.119487\n"
     ]
    },
    {
     "name": "stderr",
     "output_type": "stream",
     "text": [
      "\n",
      "\n",
      "num_leaves, val_score: 0.782795:  85%|########5 | 17/20 [00:20<00:03,  1.15s/it]\u001b[A\u001b[A\n",
      "\n",
      "num_leaves, val_score: 0.782795:  90%|######### | 18/20 [00:20<00:02,  1.06s/it]\u001b[A\u001b[A[I 2024-02-10 17:03:28,360] Trial 24 finished with value: 0.7794688901504453 and parameters: {'num_leaves': 38}. Best is trial 10 with value: 0.782795402018064.\n",
      "\n",
      "\n",
      "num_leaves, val_score: 0.782795:  90%|######### | 18/20 [00:20<00:02,  1.06s/it]\u001b[A\u001b[A"
     ]
    },
    {
     "name": "stdout",
     "output_type": "stream",
     "text": [
      "[LightGBM] [Info] Number of positive: 28328, number of negative: 3402\n",
      "[LightGBM] [Warning] Auto-choosing col-wise multi-threading, the overhead of testing was 0.006872 seconds.\n",
      "You can set `force_col_wise=true` to remove the overhead.\n",
      "[LightGBM] [Info] Total Bins 4895\n",
      "[LightGBM] [Info] Number of data points in the train set: 31730, number of used features: 37\n",
      "[LightGBM] [Info] [binary:BoostFromScore]: pavg=0.892783 -> initscore=2.119487\n",
      "[LightGBM] [Info] Start training from score 2.119487\n"
     ]
    },
    {
     "name": "stderr",
     "output_type": "stream",
     "text": [
      "\n",
      "\n",
      "num_leaves, val_score: 0.782795:  90%|######### | 18/20 [00:22<00:02,  1.06s/it]\u001b[A\u001b[A\n",
      "\n",
      "num_leaves, val_score: 0.782795:  95%|#########5| 19/20 [00:22<00:01,  1.16s/it]\u001b[A\u001b[A[I 2024-02-10 17:03:29,753] Trial 25 finished with value: 0.7730808180768903 and parameters: {'num_leaves': 94}. Best is trial 10 with value: 0.782795402018064.\n",
      "\n",
      "\n",
      "num_leaves, val_score: 0.782795:  95%|#########5| 19/20 [00:22<00:01,  1.16s/it]\u001b[A\u001b[A"
     ]
    },
    {
     "name": "stdout",
     "output_type": "stream",
     "text": [
      "[LightGBM] [Info] Number of positive: 28328, number of negative: 3402\n",
      "[LightGBM] [Warning] Auto-choosing col-wise multi-threading, the overhead of testing was 0.006718 seconds.\n",
      "You can set `force_col_wise=true` to remove the overhead.\n",
      "[LightGBM] [Info] Total Bins 4895\n",
      "[LightGBM] [Info] Number of data points in the train set: 31730, number of used features: 37\n",
      "[LightGBM] [Info] [binary:BoostFromScore]: pavg=0.892783 -> initscore=2.119487\n",
      "[LightGBM] [Info] Start training from score 2.119487\n"
     ]
    },
    {
     "name": "stderr",
     "output_type": "stream",
     "text": [
      "\n",
      "\n",
      "num_leaves, val_score: 0.782795:  95%|#########5| 19/20 [00:23<00:01,  1.16s/it]\u001b[A\u001b[A\n",
      "\n",
      "num_leaves, val_score: 0.782795: 100%|##########| 20/20 [00:23<00:00,  1.33s/it]\u001b[A\u001b[A[I 2024-02-10 17:03:31,467] Trial 26 finished with value: 0.7747968595314917 and parameters: {'num_leaves': 150}. Best is trial 10 with value: 0.782795402018064.\n",
      "num_leaves, val_score: 0.782795: 100%|##########| 20/20 [00:23<00:00,  1.19s/it]\n",
      "\n",
      "\n",
      "  0%|          | 0/10 [00:00<?, ?it/s]\u001b[A\u001b[A\n",
      "\n",
      "bagging, val_score: 0.782795:   0%|          | 0/10 [00:00<?, ?it/s]\u001b[A\u001b[A"
     ]
    },
    {
     "name": "stdout",
     "output_type": "stream",
     "text": [
      "[LightGBM] [Info] Number of positive: 28328, number of negative: 3402\n",
      "[LightGBM] [Warning] Auto-choosing col-wise multi-threading, the overhead of testing was 0.008325 seconds.\n",
      "You can set `force_col_wise=true` to remove the overhead.\n",
      "[LightGBM] [Info] Total Bins 4895\n",
      "[LightGBM] [Info] Number of data points in the train set: 31730, number of used features: 37\n",
      "[LightGBM] [Info] [binary:BoostFromScore]: pavg=0.892783 -> initscore=2.119487\n",
      "[LightGBM] [Info] Start training from score 2.119487\n"
     ]
    },
    {
     "name": "stderr",
     "output_type": "stream",
     "text": [
      "\n",
      "\n",
      "bagging, val_score: 0.784279:   0%|          | 0/10 [00:00<?, ?it/s]\u001b[A\u001b[A\n",
      "\n",
      "bagging, val_score: 0.784279:  10%|#         | 1/10 [00:00<00:07,  1.14it/s]\u001b[A\u001b[A[I 2024-02-10 17:03:32,368] Trial 27 finished with value: 0.7842794013023408 and parameters: {'bagging_fraction': 0.8839514368583403, 'bagging_freq': 1}. Best is trial 27 with value: 0.7842794013023408.\n",
      "\n",
      "\n",
      "bagging, val_score: 0.784279:  10%|#         | 1/10 [00:00<00:07,  1.14it/s]\u001b[A\u001b[A"
     ]
    },
    {
     "name": "stdout",
     "output_type": "stream",
     "text": [
      "[LightGBM] [Info] Number of positive: 28328, number of negative: 3402\n",
      "[LightGBM] [Warning] Auto-choosing col-wise multi-threading, the overhead of testing was 0.007446 seconds.\n",
      "You can set `force_col_wise=true` to remove the overhead.\n",
      "[LightGBM] [Info] Total Bins 4895\n",
      "[LightGBM] [Info] Number of data points in the train set: 31730, number of used features: 37\n",
      "[LightGBM] [Info] [binary:BoostFromScore]: pavg=0.892783 -> initscore=2.119487\n",
      "[LightGBM] [Info] Start training from score 2.119487\n"
     ]
    },
    {
     "name": "stderr",
     "output_type": "stream",
     "text": [
      "\n",
      "\n",
      "bagging, val_score: 0.784448:  10%|#         | 1/10 [00:01<00:07,  1.14it/s]\u001b[A\u001b[A\n",
      "\n",
      "bagging, val_score: 0.784448:  20%|##        | 2/10 [00:01<00:06,  1.18it/s]\u001b[A\u001b[A[I 2024-02-10 17:03:33,202] Trial 28 finished with value: 0.7844480915380994 and parameters: {'bagging_fraction': 0.9073707609190054, 'bagging_freq': 1}. Best is trial 28 with value: 0.7844480915380994.\n",
      "\n",
      "\n",
      "bagging, val_score: 0.784448:  20%|##        | 2/10 [00:01<00:06,  1.18it/s]\u001b[A\u001b[A"
     ]
    },
    {
     "name": "stdout",
     "output_type": "stream",
     "text": [
      "[LightGBM] [Info] Number of positive: 28328, number of negative: 3402\n",
      "[LightGBM] [Warning] Auto-choosing col-wise multi-threading, the overhead of testing was 0.006638 seconds.\n",
      "You can set `force_col_wise=true` to remove the overhead.\n",
      "[LightGBM] [Info] Total Bins 4895\n",
      "[LightGBM] [Info] Number of data points in the train set: 31730, number of used features: 37\n",
      "[LightGBM] [Info] [binary:BoostFromScore]: pavg=0.892783 -> initscore=2.119487\n",
      "[LightGBM] [Info] Start training from score 2.119487\n"
     ]
    },
    {
     "name": "stderr",
     "output_type": "stream",
     "text": [
      "\n",
      "\n",
      "bagging, val_score: 0.784448:  20%|##        | 2/10 [00:02<00:06,  1.18it/s]\u001b[A\u001b[A\n",
      "\n",
      "bagging, val_score: 0.784448:  30%|###       | 3/10 [00:02<00:05,  1.21it/s]\u001b[A\u001b[A[I 2024-02-10 17:03:33,990] Trial 29 finished with value: 0.7830926580460867 and parameters: {'bagging_fraction': 0.9192055142081594, 'bagging_freq': 1}. Best is trial 28 with value: 0.7844480915380994.\n",
      "\n",
      "\n",
      "bagging, val_score: 0.784448:  30%|###       | 3/10 [00:02<00:05,  1.21it/s]\u001b[A\u001b[A"
     ]
    },
    {
     "name": "stdout",
     "output_type": "stream",
     "text": [
      "[LightGBM] [Info] Number of positive: 28328, number of negative: 3402\n",
      "[LightGBM] [Warning] Auto-choosing col-wise multi-threading, the overhead of testing was 0.006557 seconds.\n",
      "You can set `force_col_wise=true` to remove the overhead.\n",
      "[LightGBM] [Info] Total Bins 4895\n",
      "[LightGBM] [Info] Number of data points in the train set: 31730, number of used features: 37\n",
      "[LightGBM] [Info] [binary:BoostFromScore]: pavg=0.892783 -> initscore=2.119487\n",
      "[LightGBM] [Info] Start training from score 2.119487\n"
     ]
    },
    {
     "name": "stderr",
     "output_type": "stream",
     "text": [
      "\n",
      "\n",
      "bagging, val_score: 0.784448:  30%|###       | 3/10 [00:03<00:05,  1.21it/s]\u001b[A\u001b[A\n",
      "\n",
      "bagging, val_score: 0.784448:  40%|####      | 4/10 [00:03<00:04,  1.22it/s]\u001b[A\u001b[A[I 2024-02-10 17:03:34,806] Trial 30 finished with value: 0.7840922314794971 and parameters: {'bagging_fraction': 0.9209133531072098, 'bagging_freq': 1}. Best is trial 28 with value: 0.7844480915380994.\n",
      "\n",
      "\n",
      "bagging, val_score: 0.784448:  40%|####      | 4/10 [00:03<00:04,  1.22it/s]\u001b[A\u001b[A"
     ]
    },
    {
     "name": "stdout",
     "output_type": "stream",
     "text": [
      "[LightGBM] [Info] Number of positive: 28328, number of negative: 3402\n",
      "[LightGBM] [Warning] Auto-choosing col-wise multi-threading, the overhead of testing was 0.007443 seconds.\n",
      "You can set `force_col_wise=true` to remove the overhead.\n",
      "[LightGBM] [Info] Total Bins 4895\n",
      "[LightGBM] [Info] Number of data points in the train set: 31730, number of used features: 37\n",
      "[LightGBM] [Info] [binary:BoostFromScore]: pavg=0.892783 -> initscore=2.119487\n",
      "[LightGBM] [Info] Start training from score 2.119487\n"
     ]
    },
    {
     "name": "stderr",
     "output_type": "stream",
     "text": [
      "\n",
      "\n",
      "bagging, val_score: 0.784448:  40%|####      | 4/10 [00:04<00:04,  1.22it/s]\u001b[A\u001b[A\n",
      "\n",
      "bagging, val_score: 0.784448:  50%|#####     | 5/10 [00:04<00:04,  1.19it/s]\u001b[A\u001b[A[I 2024-02-10 17:03:35,699] Trial 31 finished with value: 0.7823456544855311 and parameters: {'bagging_fraction': 0.9150091740319289, 'bagging_freq': 1}. Best is trial 28 with value: 0.7844480915380994.\n",
      "\n",
      "\n",
      "bagging, val_score: 0.784448:  50%|#####     | 5/10 [00:04<00:04,  1.19it/s]\u001b[A\u001b[A"
     ]
    },
    {
     "name": "stdout",
     "output_type": "stream",
     "text": [
      "[LightGBM] [Info] Number of positive: 28328, number of negative: 3402\n",
      "[LightGBM] [Warning] Auto-choosing row-wise multi-threading, the overhead of testing was 0.002256 seconds.\n",
      "You can set `force_row_wise=true` to remove the overhead.\n",
      "And if memory is not enough, you can set `force_col_wise=true`.\n",
      "[LightGBM] [Info] Total Bins 4895\n",
      "[LightGBM] [Info] Number of data points in the train set: 31730, number of used features: 37\n",
      "[LightGBM] [Info] [binary:BoostFromScore]: pavg=0.892783 -> initscore=2.119487\n",
      "[LightGBM] [Info] Start training from score 2.119487\n"
     ]
    },
    {
     "name": "stderr",
     "output_type": "stream",
     "text": [
      "\n",
      "\n",
      "bagging, val_score: 0.784448:  50%|#####     | 5/10 [00:04<00:04,  1.19it/s]\u001b[A\u001b[A\n",
      "\n",
      "bagging, val_score: 0.784448:  60%|######    | 6/10 [00:04<00:03,  1.24it/s]\u001b[A\u001b[A[I 2024-02-10 17:03:36,426] Trial 32 finished with value: 0.7828795609436301 and parameters: {'bagging_fraction': 0.9157001557692591, 'bagging_freq': 1}. Best is trial 28 with value: 0.7844480915380994.\n",
      "\n",
      "\n",
      "bagging, val_score: 0.784448:  60%|######    | 6/10 [00:04<00:03,  1.24it/s]\u001b[A\u001b[A"
     ]
    },
    {
     "name": "stdout",
     "output_type": "stream",
     "text": [
      "[LightGBM] [Info] Number of positive: 28328, number of negative: 3402\n",
      "[LightGBM] [Warning] Auto-choosing col-wise multi-threading, the overhead of testing was 0.004555 seconds.\n",
      "You can set `force_col_wise=true` to remove the overhead.\n",
      "[LightGBM] [Info] Total Bins 4895\n",
      "[LightGBM] [Info] Number of data points in the train set: 31730, number of used features: 37\n",
      "[LightGBM] [Info] [binary:BoostFromScore]: pavg=0.892783 -> initscore=2.119487\n",
      "[LightGBM] [Info] Start training from score 2.119487\n"
     ]
    },
    {
     "name": "stderr",
     "output_type": "stream",
     "text": [
      "\n",
      "\n",
      "bagging, val_score: 0.784448:  60%|######    | 6/10 [00:05<00:03,  1.24it/s]\u001b[A\u001b[A\n",
      "\n",
      "bagging, val_score: 0.784448:  70%|#######   | 7/10 [00:05<00:02,  1.36it/s]\u001b[A\u001b[A[I 2024-02-10 17:03:37,034] Trial 33 finished with value: 0.7813233655899103 and parameters: {'bagging_fraction': 0.9133937725862342, 'bagging_freq': 1}. Best is trial 28 with value: 0.7844480915380994.\n",
      "\n",
      "\n",
      "bagging, val_score: 0.784448:  70%|#######   | 7/10 [00:05<00:02,  1.36it/s]\u001b[A\u001b[A"
     ]
    },
    {
     "name": "stdout",
     "output_type": "stream",
     "text": [
      "[LightGBM] [Info] Number of positive: 28328, number of negative: 3402\n",
      "[LightGBM] [Warning] Auto-choosing col-wise multi-threading, the overhead of testing was 0.004464 seconds.\n",
      "You can set `force_col_wise=true` to remove the overhead.\n",
      "[LightGBM] [Info] Total Bins 4895\n",
      "[LightGBM] [Info] Number of data points in the train set: 31730, number of used features: 37\n",
      "[LightGBM] [Info] [binary:BoostFromScore]: pavg=0.892783 -> initscore=2.119487\n",
      "[LightGBM] [Info] Start training from score 2.119487\n"
     ]
    },
    {
     "name": "stderr",
     "output_type": "stream",
     "text": [
      "\n",
      "\n",
      "bagging, val_score: 0.784448:  70%|#######   | 7/10 [00:06<00:02,  1.36it/s]\u001b[A\u001b[A\n",
      "\n",
      "bagging, val_score: 0.784448:  80%|########  | 8/10 [00:06<00:01,  1.43it/s]\u001b[A\u001b[A[I 2024-02-10 17:03:37,629] Trial 34 finished with value: 0.7822549788290031 and parameters: {'bagging_fraction': 0.9155850932782155, 'bagging_freq': 1}. Best is trial 28 with value: 0.7844480915380994.\n",
      "\n",
      "\n",
      "bagging, val_score: 0.784448:  80%|########  | 8/10 [00:06<00:01,  1.43it/s]\u001b[A\u001b[A"
     ]
    },
    {
     "name": "stdout",
     "output_type": "stream",
     "text": [
      "[LightGBM] [Info] Number of positive: 28328, number of negative: 3402\n",
      "[LightGBM] [Warning] Auto-choosing row-wise multi-threading, the overhead of testing was 0.002081 seconds.\n",
      "You can set `force_row_wise=true` to remove the overhead.\n",
      "And if memory is not enough, you can set `force_col_wise=true`.\n",
      "[LightGBM] [Info] Total Bins 4895\n",
      "[LightGBM] [Info] Number of data points in the train set: 31730, number of used features: 37\n",
      "[LightGBM] [Info] [binary:BoostFromScore]: pavg=0.892783 -> initscore=2.119487\n",
      "[LightGBM] [Info] Start training from score 2.119487\n"
     ]
    },
    {
     "name": "stderr",
     "output_type": "stream",
     "text": [
      "\n",
      "\n",
      "bagging, val_score: 0.784448:  80%|########  | 8/10 [00:06<00:01,  1.43it/s]\u001b[A\u001b[A\n",
      "\n",
      "bagging, val_score: 0.784448:  90%|######### | 9/10 [00:06<00:00,  1.47it/s]\u001b[A\u001b[A[I 2024-02-10 17:03:38,265] Trial 35 finished with value: 0.7826942995919968 and parameters: {'bagging_fraction': 0.7490626188763015, 'bagging_freq': 1}. Best is trial 28 with value: 0.7844480915380994.\n",
      "\n",
      "\n",
      "bagging, val_score: 0.784448:  90%|######### | 9/10 [00:06<00:00,  1.47it/s]\u001b[A\u001b[A"
     ]
    },
    {
     "name": "stdout",
     "output_type": "stream",
     "text": [
      "[LightGBM] [Info] Number of positive: 28328, number of negative: 3402\n",
      "[LightGBM] [Warning] Auto-choosing col-wise multi-threading, the overhead of testing was 0.004498 seconds.\n",
      "You can set `force_col_wise=true` to remove the overhead.\n",
      "[LightGBM] [Info] Total Bins 4895\n",
      "[LightGBM] [Info] Number of data points in the train set: 31730, number of used features: 37\n",
      "[LightGBM] [Info] [binary:BoostFromScore]: pavg=0.892783 -> initscore=2.119487\n",
      "[LightGBM] [Info] Start training from score 2.119487\n"
     ]
    },
    {
     "name": "stderr",
     "output_type": "stream",
     "text": [
      "\n",
      "\n",
      "bagging, val_score: 0.784448:  90%|######### | 9/10 [00:07<00:00,  1.47it/s]\u001b[A\u001b[A\n",
      "\n",
      "bagging, val_score: 0.784448: 100%|##########| 10/10 [00:07<00:00,  1.48it/s]\u001b[A\u001b[A[I 2024-02-10 17:03:38,948] Trial 36 finished with value: 0.7820739999005734 and parameters: {'bagging_fraction': 0.9926123178138981, 'bagging_freq': 3}. Best is trial 28 with value: 0.7844480915380994.\n",
      "bagging, val_score: 0.784448: 100%|##########| 10/10 [00:07<00:00,  1.34it/s]\n",
      "\n",
      "\n",
      "  0%|          | 0/3 [00:00<?, ?it/s]\u001b[A\u001b[A\n",
      "\n",
      "feature_fraction_stage2, val_score: 0.784448:   0%|          | 0/3 [00:00<?, ?it/s]\u001b[A\u001b[A"
     ]
    },
    {
     "name": "stdout",
     "output_type": "stream",
     "text": [
      "[LightGBM] [Info] Number of positive: 28328, number of negative: 3402\n",
      "[LightGBM] [Warning] Auto-choosing col-wise multi-threading, the overhead of testing was 0.004789 seconds.\n",
      "You can set `force_col_wise=true` to remove the overhead.\n",
      "[LightGBM] [Info] Total Bins 4895\n",
      "[LightGBM] [Info] Number of data points in the train set: 31730, number of used features: 37\n",
      "[LightGBM] [Info] [binary:BoostFromScore]: pavg=0.892783 -> initscore=2.119487\n",
      "[LightGBM] [Info] Start training from score 2.119487\n"
     ]
    },
    {
     "name": "stderr",
     "output_type": "stream",
     "text": [
      "\n",
      "\n",
      "feature_fraction_stage2, val_score: 0.784448:   0%|          | 0/3 [00:00<?, ?it/s]\u001b[A\u001b[A\n",
      "\n",
      "feature_fraction_stage2, val_score: 0.784448:  33%|###3      | 1/3 [00:00<00:01,  1.66it/s]\u001b[A\u001b[A[I 2024-02-10 17:03:39,558] Trial 37 finished with value: 0.7824308840168981 and parameters: {'feature_fraction': 0.48000000000000004}. Best is trial 37 with value: 0.7824308840168981.\n",
      "\n",
      "\n",
      "feature_fraction_stage2, val_score: 0.784448:  33%|###3      | 1/3 [00:00<00:01,  1.66it/s]\u001b[A\u001b[A"
     ]
    },
    {
     "name": "stdout",
     "output_type": "stream",
     "text": [
      "[LightGBM] [Info] Number of positive: 28328, number of negative: 3402\n",
      "[LightGBM] [Warning] Auto-choosing col-wise multi-threading, the overhead of testing was 0.004595 seconds.\n",
      "You can set `force_col_wise=true` to remove the overhead.\n",
      "[LightGBM] [Info] Total Bins 4895\n",
      "[LightGBM] [Info] Number of data points in the train set: 31730, number of used features: 37\n",
      "[LightGBM] [Info] [binary:BoostFromScore]: pavg=0.892783 -> initscore=2.119487\n",
      "[LightGBM] [Info] Start training from score 2.119487\n"
     ]
    },
    {
     "name": "stderr",
     "output_type": "stream",
     "text": [
      "\n",
      "\n",
      "feature_fraction_stage2, val_score: 0.784448:  33%|###3      | 1/3 [00:01<00:01,  1.66it/s]\u001b[A\u001b[A\n",
      "\n",
      "feature_fraction_stage2, val_score: 0.784448:  67%|######6   | 2/3 [00:01<00:00,  1.58it/s]\u001b[A\u001b[A[I 2024-02-10 17:03:40,215] Trial 38 finished with value: 0.7808453633738494 and parameters: {'feature_fraction': 0.44800000000000006}. Best is trial 37 with value: 0.7824308840168981.\n",
      "\n",
      "\n",
      "feature_fraction_stage2, val_score: 0.784448:  67%|######6   | 2/3 [00:01<00:00,  1.58it/s]\u001b[A\u001b[A"
     ]
    },
    {
     "name": "stdout",
     "output_type": "stream",
     "text": [
      "[LightGBM] [Info] Number of positive: 28328, number of negative: 3402\n",
      "[LightGBM] [Warning] Auto-choosing col-wise multi-threading, the overhead of testing was 0.004738 seconds.\n",
      "You can set `force_col_wise=true` to remove the overhead.\n",
      "[LightGBM] [Info] Total Bins 4895\n",
      "[LightGBM] [Info] Number of data points in the train set: 31730, number of used features: 37\n",
      "[LightGBM] [Info] [binary:BoostFromScore]: pavg=0.892783 -> initscore=2.119487\n",
      "[LightGBM] [Info] Start training from score 2.119487\n"
     ]
    },
    {
     "name": "stderr",
     "output_type": "stream",
     "text": [
      "\n",
      "\n",
      "feature_fraction_stage2, val_score: 0.784448:  67%|######6   | 2/3 [00:01<00:00,  1.58it/s]\u001b[A\u001b[A\n",
      "\n",
      "feature_fraction_stage2, val_score: 0.784448: 100%|##########| 3/3 [00:01<00:00,  1.63it/s]\u001b[A\u001b[A[I 2024-02-10 17:03:40,818] Trial 39 finished with value: 0.7844480915380994 and parameters: {'feature_fraction': 0.41600000000000004}. Best is trial 39 with value: 0.7844480915380994.\n",
      "feature_fraction_stage2, val_score: 0.784448: 100%|##########| 3/3 [00:01<00:00,  1.61it/s]\n",
      "\n",
      "\n",
      "  0%|          | 0/20 [00:00<?, ?it/s]\u001b[A\u001b[A\n",
      "\n",
      "regularization_factors, val_score: 0.784448:   0%|          | 0/20 [00:00<?, ?it/s]\u001b[A\u001b[A"
     ]
    },
    {
     "name": "stdout",
     "output_type": "stream",
     "text": [
      "[LightGBM] [Info] Number of positive: 28328, number of negative: 3402\n",
      "[LightGBM] [Warning] Auto-choosing row-wise multi-threading, the overhead of testing was 0.001705 seconds.\n",
      "You can set `force_row_wise=true` to remove the overhead.\n",
      "And if memory is not enough, you can set `force_col_wise=true`.\n",
      "[LightGBM] [Info] Total Bins 4895\n",
      "[LightGBM] [Info] Number of data points in the train set: 31730, number of used features: 37\n",
      "[LightGBM] [Info] [binary:BoostFromScore]: pavg=0.892783 -> initscore=2.119487\n",
      "[LightGBM] [Info] Start training from score 2.119487\n"
     ]
    },
    {
     "name": "stderr",
     "output_type": "stream",
     "text": [
      "\n",
      "\n",
      "regularization_factors, val_score: 0.784448:   0%|          | 0/20 [00:00<?, ?it/s]\u001b[A\u001b[A\n",
      "\n",
      "regularization_factors, val_score: 0.784448:   5%|5         | 1/20 [00:00<00:12,  1.49it/s]\u001b[A\u001b[A[I 2024-02-10 17:03:41,498] Trial 40 finished with value: 0.7842688348885667 and parameters: {'lambda_l1': 1.0502111408255818e-07, 'lambda_l2': 0.7611833056446107}. Best is trial 40 with value: 0.7842688348885667.\n",
      "\n",
      "\n",
      "regularization_factors, val_score: 0.784448:   5%|5         | 1/20 [00:00<00:12,  1.49it/s]\u001b[A\u001b[A"
     ]
    },
    {
     "name": "stdout",
     "output_type": "stream",
     "text": [
      "[LightGBM] [Info] Number of positive: 28328, number of negative: 3402\n",
      "[LightGBM] [Warning] Auto-choosing col-wise multi-threading, the overhead of testing was 0.005426 seconds.\n",
      "You can set `force_col_wise=true` to remove the overhead.\n",
      "[LightGBM] [Info] Total Bins 4895\n",
      "[LightGBM] [Info] Number of data points in the train set: 31730, number of used features: 37\n",
      "[LightGBM] [Info] [binary:BoostFromScore]: pavg=0.892783 -> initscore=2.119487\n",
      "[LightGBM] [Info] Start training from score 2.119487\n"
     ]
    },
    {
     "name": "stderr",
     "output_type": "stream",
     "text": [
      "\n",
      "\n",
      "regularization_factors, val_score: 0.784448:   5%|5         | 1/20 [00:01<00:12,  1.49it/s]\u001b[A\u001b[A\n",
      "\n",
      "regularization_factors, val_score: 0.784448:  10%|#         | 2/20 [00:01<00:11,  1.52it/s]\u001b[A\u001b[A[I 2024-02-10 17:03:42,148] Trial 41 finished with value: 0.7828262168458985 and parameters: {'lambda_l1': 2.2714618740842557e-08, 'lambda_l2': 2.2157852085382927}. Best is trial 40 with value: 0.7842688348885667.\n",
      "\n",
      "\n",
      "regularization_factors, val_score: 0.784448:  10%|#         | 2/20 [00:01<00:11,  1.52it/s]\u001b[A\u001b[A"
     ]
    },
    {
     "name": "stdout",
     "output_type": "stream",
     "text": [
      "[LightGBM] [Info] Number of positive: 28328, number of negative: 3402\n",
      "[LightGBM] [Warning] Auto-choosing col-wise multi-threading, the overhead of testing was 0.004967 seconds.\n",
      "You can set `force_col_wise=true` to remove the overhead.\n",
      "[LightGBM] [Info] Total Bins 4895\n",
      "[LightGBM] [Info] Number of data points in the train set: 31730, number of used features: 37\n",
      "[LightGBM] [Info] [binary:BoostFromScore]: pavg=0.892783 -> initscore=2.119487\n",
      "[LightGBM] [Info] Start training from score 2.119487\n"
     ]
    },
    {
     "name": "stderr",
     "output_type": "stream",
     "text": [
      "\n",
      "\n",
      "regularization_factors, val_score: 0.784448:  10%|#         | 2/20 [00:01<00:11,  1.52it/s]\u001b[A\u001b[A\n",
      "\n",
      "regularization_factors, val_score: 0.784448:  15%|#5        | 3/20 [00:01<00:11,  1.53it/s]\u001b[A\u001b[A[I 2024-02-10 17:03:42,798] Trial 42 finished with value: 0.7823722799863186 and parameters: {'lambda_l1': 4.687465981298185e-06, 'lambda_l2': 0.024991496193016882}. Best is trial 40 with value: 0.7842688348885667.\n",
      "\n",
      "\n",
      "regularization_factors, val_score: 0.784448:  15%|#5        | 3/20 [00:01<00:11,  1.53it/s]\u001b[A\u001b[A"
     ]
    },
    {
     "name": "stdout",
     "output_type": "stream",
     "text": [
      "[LightGBM] [Info] Number of positive: 28328, number of negative: 3402\n",
      "[LightGBM] [Warning] Auto-choosing col-wise multi-threading, the overhead of testing was 0.004882 seconds.\n",
      "You can set `force_col_wise=true` to remove the overhead.\n",
      "[LightGBM] [Info] Total Bins 4895\n",
      "[LightGBM] [Info] Number of data points in the train set: 31730, number of used features: 37\n",
      "[LightGBM] [Info] [binary:BoostFromScore]: pavg=0.892783 -> initscore=2.119487\n",
      "[LightGBM] [Info] Start training from score 2.119487\n"
     ]
    },
    {
     "name": "stderr",
     "output_type": "stream",
     "text": [
      "\n",
      "\n",
      "regularization_factors, val_score: 0.784448:  15%|#5        | 3/20 [00:02<00:11,  1.53it/s]\u001b[A\u001b[A\n",
      "\n",
      "regularization_factors, val_score: 0.784448:  20%|##        | 4/20 [00:02<00:10,  1.53it/s]\u001b[A\u001b[A[I 2024-02-10 17:03:43,447] Trial 43 finished with value: 0.7830888876517444 and parameters: {'lambda_l1': 3.2049585954317426, 'lambda_l2': 3.7090053299530316e-08}. Best is trial 40 with value: 0.7842688348885667.\n",
      "\n",
      "\n",
      "regularization_factors, val_score: 0.784448:  20%|##        | 4/20 [00:02<00:10,  1.53it/s]\u001b[A\u001b[A"
     ]
    },
    {
     "name": "stdout",
     "output_type": "stream",
     "text": [
      "[LightGBM] [Info] Number of positive: 28328, number of negative: 3402\n",
      "[LightGBM] [Warning] Auto-choosing col-wise multi-threading, the overhead of testing was 0.004695 seconds.\n",
      "You can set `force_col_wise=true` to remove the overhead.\n",
      "[LightGBM] [Info] Total Bins 4895\n",
      "[LightGBM] [Info] Number of data points in the train set: 31730, number of used features: 37\n",
      "[LightGBM] [Info] [binary:BoostFromScore]: pavg=0.892783 -> initscore=2.119487\n",
      "[LightGBM] [Info] Start training from score 2.119487\n"
     ]
    },
    {
     "name": "stderr",
     "output_type": "stream",
     "text": [
      "\n",
      "\n",
      "regularization_factors, val_score: 0.784448:  20%|##        | 4/20 [00:03<00:10,  1.53it/s]\u001b[A\u001b[A\n",
      "\n",
      "regularization_factors, val_score: 0.784448:  25%|##5       | 5/20 [00:03<00:09,  1.55it/s]\u001b[A\u001b[A[I 2024-02-10 17:03:44,082] Trial 44 finished with value: 0.7844481846342559 and parameters: {'lambda_l1': 0.000592627142409043, 'lambda_l2': 6.341307589406814e-05}. Best is trial 44 with value: 0.7844481846342559.\n",
      "\n",
      "\n",
      "regularization_factors, val_score: 0.784448:  25%|##5       | 5/20 [00:03<00:09,  1.55it/s]\u001b[A\u001b[A"
     ]
    },
    {
     "name": "stdout",
     "output_type": "stream",
     "text": [
      "[LightGBM] [Info] Number of positive: 28328, number of negative: 3402\n",
      "[LightGBM] [Warning] Auto-choosing row-wise multi-threading, the overhead of testing was 0.002128 seconds.\n",
      "You can set `force_row_wise=true` to remove the overhead.\n",
      "And if memory is not enough, you can set `force_col_wise=true`.\n",
      "[LightGBM] [Info] Total Bins 4895\n",
      "[LightGBM] [Info] Number of data points in the train set: 31730, number of used features: 37\n",
      "[LightGBM] [Info] [binary:BoostFromScore]: pavg=0.892783 -> initscore=2.119487\n",
      "[LightGBM] [Info] Start training from score 2.119487\n"
     ]
    },
    {
     "name": "stderr",
     "output_type": "stream",
     "text": [
      "\n",
      "\n",
      "regularization_factors, val_score: 0.784448:  25%|##5       | 5/20 [00:04<00:09,  1.55it/s]\u001b[A\u001b[A\n",
      "\n",
      "regularization_factors, val_score: 0.784448:  30%|###       | 6/20 [00:04<00:10,  1.39it/s]\u001b[A\u001b[A[I 2024-02-10 17:03:44,951] Trial 45 finished with value: 0.7838488315780674 and parameters: {'lambda_l1': 0.008834939466892077, 'lambda_l2': 3.1956040430214715e-05}. Best is trial 44 with value: 0.7844481846342559.\n",
      "\n",
      "\n",
      "regularization_factors, val_score: 0.784448:  30%|###       | 6/20 [00:04<00:10,  1.39it/s]\u001b[A\u001b[A"
     ]
    },
    {
     "name": "stdout",
     "output_type": "stream",
     "text": [
      "[LightGBM] [Info] Number of positive: 28328, number of negative: 3402\n",
      "[LightGBM] [Warning] Auto-choosing col-wise multi-threading, the overhead of testing was 0.008871 seconds.\n",
      "You can set `force_col_wise=true` to remove the overhead.\n",
      "[LightGBM] [Info] Total Bins 4895\n",
      "[LightGBM] [Info] Number of data points in the train set: 31730, number of used features: 37\n",
      "[LightGBM] [Info] [binary:BoostFromScore]: pavg=0.892783 -> initscore=2.119487\n",
      "[LightGBM] [Info] Start training from score 2.119487\n"
     ]
    },
    {
     "name": "stderr",
     "output_type": "stream",
     "text": [
      "\n",
      "\n",
      "regularization_factors, val_score: 0.784448:  30%|###       | 6/20 [00:04<00:10,  1.39it/s]\u001b[A\u001b[A\n",
      "\n",
      "regularization_factors, val_score: 0.784448:  35%|###5      | 7/20 [00:04<00:09,  1.30it/s]\u001b[A\u001b[A[I 2024-02-10 17:03:45,826] Trial 46 finished with value: 0.7844484639227257 and parameters: {'lambda_l1': 0.0001485879729550264, 'lambda_l2': 0.00015906388673257656}. Best is trial 46 with value: 0.7844484639227257.\n",
      "\n",
      "\n",
      "regularization_factors, val_score: 0.784448:  35%|###5      | 7/20 [00:04<00:09,  1.30it/s]\u001b[A\u001b[A"
     ]
    },
    {
     "name": "stdout",
     "output_type": "stream",
     "text": [
      "[LightGBM] [Info] Number of positive: 28328, number of negative: 3402\n",
      "[LightGBM] [Warning] Auto-choosing col-wise multi-threading, the overhead of testing was 0.007679 seconds.\n",
      "You can set `force_col_wise=true` to remove the overhead.\n",
      "[LightGBM] [Info] Total Bins 4895\n",
      "[LightGBM] [Info] Number of data points in the train set: 31730, number of used features: 37\n",
      "[LightGBM] [Info] [binary:BoostFromScore]: pavg=0.892783 -> initscore=2.119487\n",
      "[LightGBM] [Info] Start training from score 2.119487\n"
     ]
    },
    {
     "name": "stderr",
     "output_type": "stream",
     "text": [
      "\n",
      "\n",
      "regularization_factors, val_score: 0.784448:  35%|###5      | 7/20 [00:05<00:09,  1.30it/s]\u001b[A\u001b[A\n",
      "\n",
      "regularization_factors, val_score: 0.784448:  40%|####      | 8/20 [00:05<00:09,  1.24it/s]\u001b[A\u001b[A[I 2024-02-10 17:03:46,712] Trial 47 finished with value: 0.7844483708265692 and parameters: {'lambda_l1': 0.0009986332158168324, 'lambda_l2': 5.341233772427249e-05}. Best is trial 46 with value: 0.7844484639227257.\n",
      "\n",
      "\n",
      "regularization_factors, val_score: 0.784448:  40%|####      | 8/20 [00:05<00:09,  1.24it/s]\u001b[A\u001b[A"
     ]
    },
    {
     "name": "stdout",
     "output_type": "stream",
     "text": [
      "[LightGBM] [Info] Number of positive: 28328, number of negative: 3402\n",
      "[LightGBM] [Warning] Auto-choosing row-wise multi-threading, the overhead of testing was 0.002210 seconds.\n",
      "You can set `force_row_wise=true` to remove the overhead.\n",
      "And if memory is not enough, you can set `force_col_wise=true`.\n",
      "[LightGBM] [Info] Total Bins 4895\n",
      "[LightGBM] [Info] Number of data points in the train set: 31730, number of used features: 37\n",
      "[LightGBM] [Info] [binary:BoostFromScore]: pavg=0.892783 -> initscore=2.119487\n",
      "[LightGBM] [Info] Start training from score 2.119487\n"
     ]
    },
    {
     "name": "stderr",
     "output_type": "stream",
     "text": [
      "\n",
      "\n",
      "regularization_factors, val_score: 0.784448:  40%|####      | 8/20 [00:06<00:09,  1.24it/s]\u001b[A\u001b[A\n",
      "\n",
      "regularization_factors, val_score: 0.784448:  45%|####5     | 9/20 [00:06<00:09,  1.20it/s]\u001b[A\u001b[A[I 2024-02-10 17:03:47,590] Trial 48 finished with value: 0.7844484639227257 and parameters: {'lambda_l1': 0.0009993057525192958, 'lambda_l2': 3.3132212455933875e-05}. Best is trial 46 with value: 0.7844484639227257.\n",
      "\n",
      "\n",
      "regularization_factors, val_score: 0.784448:  45%|####5     | 9/20 [00:06<00:09,  1.20it/s]\u001b[A\u001b[A"
     ]
    },
    {
     "name": "stdout",
     "output_type": "stream",
     "text": [
      "[LightGBM] [Info] Number of positive: 28328, number of negative: 3402\n",
      "[LightGBM] [Warning] Auto-choosing col-wise multi-threading, the overhead of testing was 0.007926 seconds.\n",
      "You can set `force_col_wise=true` to remove the overhead.\n",
      "[LightGBM] [Info] Total Bins 4895\n",
      "[LightGBM] [Info] Number of data points in the train set: 31730, number of used features: 37\n",
      "[LightGBM] [Info] [binary:BoostFromScore]: pavg=0.892783 -> initscore=2.119487\n",
      "[LightGBM] [Info] Start training from score 2.119487\n"
     ]
    },
    {
     "name": "stderr",
     "output_type": "stream",
     "text": [
      "\n",
      "\n",
      "regularization_factors, val_score: 0.784448:  45%|####5     | 9/20 [00:07<00:09,  1.20it/s]\u001b[A\u001b[A\n",
      "\n",
      "regularization_factors, val_score: 0.784448:  50%|#####     | 10/20 [00:07<00:08,  1.19it/s]\u001b[A\u001b[A[I 2024-02-10 17:03:48,463] Trial 49 finished with value: 0.7844482777304125 and parameters: {'lambda_l1': 0.0006997377295840039, 'lambda_l2': 4.638936149615392e-05}. Best is trial 46 with value: 0.7844484639227257.\n",
      "\n",
      "\n",
      "regularization_factors, val_score: 0.784448:  50%|#####     | 10/20 [00:07<00:08,  1.19it/s]\u001b[A\u001b[A"
     ]
    },
    {
     "name": "stdout",
     "output_type": "stream",
     "text": [
      "[LightGBM] [Info] Number of positive: 28328, number of negative: 3402\n",
      "[LightGBM] [Warning] Auto-choosing col-wise multi-threading, the overhead of testing was 0.008197 seconds.\n",
      "You can set `force_col_wise=true` to remove the overhead.\n",
      "[LightGBM] [Info] Total Bins 4895\n",
      "[LightGBM] [Info] Number of data points in the train set: 31730, number of used features: 37\n",
      "[LightGBM] [Info] [binary:BoostFromScore]: pavg=0.892783 -> initscore=2.119487\n",
      "[LightGBM] [Info] Start training from score 2.119487\n"
     ]
    },
    {
     "name": "stderr",
     "output_type": "stream",
     "text": [
      "\n",
      "\n",
      "regularization_factors, val_score: 0.784448:  50%|#####     | 10/20 [00:08<00:08,  1.19it/s]\u001b[A\u001b[A\n",
      "\n",
      "regularization_factors, val_score: 0.784448:  55%|#####5    | 11/20 [00:08<00:07,  1.16it/s]\u001b[A\u001b[A[I 2024-02-10 17:03:49,373] Trial 50 finished with value: 0.7844482777304125 and parameters: {'lambda_l1': 0.0007414156587668787, 'lambda_l2': 4.6073490364273544e-05}. Best is trial 46 with value: 0.7844484639227257.\n",
      "\n",
      "\n",
      "regularization_factors, val_score: 0.784448:  55%|#####5    | 11/20 [00:08<00:07,  1.16it/s]\u001b[A\u001b[A"
     ]
    },
    {
     "name": "stdout",
     "output_type": "stream",
     "text": [
      "[LightGBM] [Info] Number of positive: 28328, number of negative: 3402\n",
      "[LightGBM] [Warning] Auto-choosing col-wise multi-threading, the overhead of testing was 0.008057 seconds.\n",
      "You can set `force_col_wise=true` to remove the overhead.\n",
      "[LightGBM] [Info] Total Bins 4895\n",
      "[LightGBM] [Info] Number of data points in the train set: 31730, number of used features: 37\n",
      "[LightGBM] [Info] [binary:BoostFromScore]: pavg=0.892783 -> initscore=2.119487\n",
      "[LightGBM] [Info] Start training from score 2.119487\n"
     ]
    },
    {
     "name": "stderr",
     "output_type": "stream",
     "text": [
      "\n",
      "\n",
      "regularization_factors, val_score: 0.784449:  55%|#####5    | 11/20 [00:09<00:07,  1.16it/s]\u001b[A\u001b[A\n",
      "\n",
      "regularization_factors, val_score: 0.784449:  60%|######    | 12/20 [00:09<00:07,  1.14it/s]\u001b[A\u001b[A[I 2024-02-10 17:03:50,282] Trial 51 finished with value: 0.7844485570188823 and parameters: {'lambda_l1': 0.0009274436515213549, 'lambda_l2': 4.399341679340359e-05}. Best is trial 51 with value: 0.7844485570188823.\n",
      "\n",
      "\n",
      "regularization_factors, val_score: 0.784449:  60%|######    | 12/20 [00:09<00:07,  1.14it/s]\u001b[A\u001b[A"
     ]
    },
    {
     "name": "stdout",
     "output_type": "stream",
     "text": [
      "[LightGBM] [Info] Number of positive: 28328, number of negative: 3402\n",
      "[LightGBM] [Warning] Auto-choosing col-wise multi-threading, the overhead of testing was 0.009072 seconds.\n",
      "You can set `force_col_wise=true` to remove the overhead.\n",
      "[LightGBM] [Info] Total Bins 4895\n",
      "[LightGBM] [Info] Number of data points in the train set: 31730, number of used features: 37\n",
      "[LightGBM] [Info] [binary:BoostFromScore]: pavg=0.892783 -> initscore=2.119487\n",
      "[LightGBM] [Info] Start training from score 2.119487\n"
     ]
    },
    {
     "name": "stderr",
     "output_type": "stream",
     "text": [
      "\n",
      "\n",
      "regularization_factors, val_score: 0.784449:  60%|######    | 12/20 [00:10<00:07,  1.14it/s]\u001b[A\u001b[A\n",
      "\n",
      "regularization_factors, val_score: 0.784449:  65%|######5   | 13/20 [00:10<00:06,  1.13it/s]\u001b[A\u001b[A[I 2024-02-10 17:03:51,181] Trial 52 finished with value: 0.7844484639227257 and parameters: {'lambda_l1': 0.000829487384471837, 'lambda_l2': 4.8617379261256005e-05}. Best is trial 51 with value: 0.7844485570188823.\n",
      "\n",
      "\n",
      "regularization_factors, val_score: 0.784449:  65%|######5   | 13/20 [00:10<00:06,  1.13it/s]\u001b[A\u001b[A"
     ]
    },
    {
     "name": "stdout",
     "output_type": "stream",
     "text": [
      "[LightGBM] [Info] Number of positive: 28328, number of negative: 3402\n",
      "[LightGBM] [Warning] Auto-choosing col-wise multi-threading, the overhead of testing was 0.008710 seconds.\n",
      "You can set `force_col_wise=true` to remove the overhead.\n",
      "[LightGBM] [Info] Total Bins 4895\n",
      "[LightGBM] [Info] Number of data points in the train set: 31730, number of used features: 37\n",
      "[LightGBM] [Info] [binary:BoostFromScore]: pavg=0.892783 -> initscore=2.119487\n",
      "[LightGBM] [Info] Start training from score 2.119487\n"
     ]
    },
    {
     "name": "stderr",
     "output_type": "stream",
     "text": [
      "\n",
      "\n",
      "regularization_factors, val_score: 0.784462:  65%|######5   | 13/20 [00:11<00:06,  1.13it/s]\u001b[A\u001b[A\n",
      "\n",
      "regularization_factors, val_score: 0.784462:  70%|#######   | 14/20 [00:11<00:05,  1.10it/s]\u001b[A\u001b[A[I 2024-02-10 17:03:52,142] Trial 53 finished with value: 0.7844624283462157 and parameters: {'lambda_l1': 0.0010885757049710026, 'lambda_l2': 3.268745423797005e-05}. Best is trial 53 with value: 0.7844624283462157.\n",
      "\n",
      "\n",
      "regularization_factors, val_score: 0.784462:  70%|#######   | 14/20 [00:11<00:05,  1.10it/s]\u001b[A\u001b[A"
     ]
    },
    {
     "name": "stdout",
     "output_type": "stream",
     "text": [
      "[LightGBM] [Info] Number of positive: 28328, number of negative: 3402\n",
      "[LightGBM] [Warning] Auto-choosing row-wise multi-threading, the overhead of testing was 0.002660 seconds.\n",
      "You can set `force_row_wise=true` to remove the overhead.\n",
      "And if memory is not enough, you can set `force_col_wise=true`.\n",
      "[LightGBM] [Info] Total Bins 4895\n",
      "[LightGBM] [Info] Number of data points in the train set: 31730, number of used features: 37\n",
      "[LightGBM] [Info] [binary:BoostFromScore]: pavg=0.892783 -> initscore=2.119487\n",
      "[LightGBM] [Info] Start training from score 2.119487\n"
     ]
    },
    {
     "name": "stderr",
     "output_type": "stream",
     "text": [
      "\n",
      "\n",
      "regularization_factors, val_score: 0.784462:  70%|#######   | 14/20 [00:12<00:05,  1.10it/s]\u001b[A\u001b[A\n",
      "\n",
      "regularization_factors, val_score: 0.784462:  75%|#######5  | 15/20 [00:12<00:04,  1.16it/s]\u001b[A\u001b[A[I 2024-02-10 17:03:52,903] Trial 54 finished with value: 0.7838490177703805 and parameters: {'lambda_l1': 0.006450682515803625, 'lambda_l2': 3.6085284875980416e-06}. Best is trial 53 with value: 0.7844624283462157.\n",
      "\n",
      "\n",
      "regularization_factors, val_score: 0.784462:  75%|#######5  | 15/20 [00:12<00:04,  1.16it/s]\u001b[A\u001b[A"
     ]
    },
    {
     "name": "stdout",
     "output_type": "stream",
     "text": [
      "[LightGBM] [Info] Number of positive: 28328, number of negative: 3402\n",
      "[LightGBM] [Warning] Auto-choosing col-wise multi-threading, the overhead of testing was 0.005688 seconds.\n",
      "You can set `force_col_wise=true` to remove the overhead.\n",
      "[LightGBM] [Info] Total Bins 4895\n",
      "[LightGBM] [Info] Number of data points in the train set: 31730, number of used features: 37\n",
      "[LightGBM] [Info] [binary:BoostFromScore]: pavg=0.892783 -> initscore=2.119487\n",
      "[LightGBM] [Info] Start training from score 2.119487\n"
     ]
    },
    {
     "name": "stderr",
     "output_type": "stream",
     "text": [
      "\n",
      "\n",
      "regularization_factors, val_score: 0.784462:  75%|#######5  | 15/20 [00:12<00:04,  1.16it/s]\u001b[A\u001b[A\n",
      "\n",
      "regularization_factors, val_score: 0.784462:  80%|########  | 16/20 [00:12<00:03,  1.24it/s]\u001b[A\u001b[A[I 2024-02-10 17:03:53,573] Trial 55 finished with value: 0.7844491155958219 and parameters: {'lambda_l1': 2.8059717191249524e-05, 'lambda_l2': 0.0010612919539632207}. Best is trial 53 with value: 0.7844624283462157.\n",
      "\n",
      "\n",
      "regularization_factors, val_score: 0.784462:  80%|########  | 16/20 [00:12<00:03,  1.24it/s]\u001b[A\u001b[A"
     ]
    },
    {
     "name": "stdout",
     "output_type": "stream",
     "text": [
      "[LightGBM] [Info] Number of positive: 28328, number of negative: 3402\n",
      "[LightGBM] [Warning] Auto-choosing col-wise multi-threading, the overhead of testing was 0.008977 seconds.\n",
      "You can set `force_col_wise=true` to remove the overhead.\n",
      "[LightGBM] [Info] Total Bins 4895\n",
      "[LightGBM] [Info] Number of data points in the train set: 31730, number of used features: 37\n",
      "[LightGBM] [Info] [binary:BoostFromScore]: pavg=0.892783 -> initscore=2.119487\n",
      "[LightGBM] [Info] Start training from score 2.119487\n"
     ]
    },
    {
     "name": "stderr",
     "output_type": "stream",
     "text": [
      "\n",
      "\n",
      "regularization_factors, val_score: 0.784568:  80%|########  | 16/20 [00:13<00:03,  1.24it/s]\u001b[A\u001b[A\n",
      "\n",
      "regularization_factors, val_score: 0.784568:  85%|########5 | 17/20 [00:13<00:02,  1.30it/s]\u001b[A\u001b[A[I 2024-02-10 17:03:54,274] Trial 56 finished with value: 0.7845684648685827 and parameters: {'lambda_l1': 1.2992317982229327e-05, 'lambda_l2': 0.002414051761838967}. Best is trial 56 with value: 0.7845684648685827.\n",
      "\n",
      "\n",
      "regularization_factors, val_score: 0.784568:  85%|########5 | 17/20 [00:13<00:02,  1.30it/s]\u001b[A\u001b[A"
     ]
    },
    {
     "name": "stdout",
     "output_type": "stream",
     "text": [
      "[LightGBM] [Info] Number of positive: 28328, number of negative: 3402\n",
      "[LightGBM] [Warning] Auto-choosing col-wise multi-threading, the overhead of testing was 0.004900 seconds.\n",
      "You can set `force_col_wise=true` to remove the overhead.\n",
      "[LightGBM] [Info] Total Bins 4895\n",
      "[LightGBM] [Info] Number of data points in the train set: 31730, number of used features: 37\n",
      "[LightGBM] [Info] [binary:BoostFromScore]: pavg=0.892783 -> initscore=2.119487\n",
      "[LightGBM] [Info] Start training from score 2.119487\n"
     ]
    },
    {
     "name": "stderr",
     "output_type": "stream",
     "text": [
      "\n",
      "\n",
      "regularization_factors, val_score: 0.784776:  85%|########5 | 17/20 [00:14<00:02,  1.30it/s]\u001b[A\u001b[A\n",
      "\n",
      "regularization_factors, val_score: 0.784776:  90%|######### | 18/20 [00:14<00:01,  1.34it/s]\u001b[A\u001b[A[I 2024-02-10 17:03:54,956] Trial 57 finished with value: 0.7847755107208603 and parameters: {'lambda_l1': 7.966075395661487e-06, 'lambda_l2': 0.003617807391227456}. Best is trial 57 with value: 0.7847755107208603.\n",
      "\n",
      "\n",
      "regularization_factors, val_score: 0.784776:  90%|######### | 18/20 [00:14<00:01,  1.34it/s]\u001b[A\u001b[A"
     ]
    },
    {
     "name": "stdout",
     "output_type": "stream",
     "text": [
      "[LightGBM] [Info] Number of positive: 28328, number of negative: 3402\n",
      "[LightGBM] [Warning] Auto-choosing col-wise multi-threading, the overhead of testing was 0.007656 seconds.\n",
      "You can set `force_col_wise=true` to remove the overhead.\n",
      "[LightGBM] [Info] Total Bins 4895\n",
      "[LightGBM] [Info] Number of data points in the train set: 31730, number of used features: 37\n",
      "[LightGBM] [Info] [binary:BoostFromScore]: pavg=0.892783 -> initscore=2.119487\n",
      "[LightGBM] [Info] Start training from score 2.119487\n"
     ]
    },
    {
     "name": "stderr",
     "output_type": "stream",
     "text": [
      "\n",
      "\n",
      "regularization_factors, val_score: 0.784776:  90%|######### | 18/20 [00:14<00:01,  1.34it/s]\u001b[A\u001b[A\n",
      "\n",
      "regularization_factors, val_score: 0.784776:  95%|#########5| 19/20 [00:14<00:00,  1.37it/s]\u001b[A\u001b[A[I 2024-02-10 17:03:55,656] Trial 58 finished with value: 0.7846127786391242 and parameters: {'lambda_l1': 1.049973741450246e-05, 'lambda_l2': 0.004241162442202676}. Best is trial 57 with value: 0.7847755107208603.\n",
      "\n",
      "\n",
      "regularization_factors, val_score: 0.784776:  95%|#########5| 19/20 [00:14<00:00,  1.37it/s]\u001b[A\u001b[A"
     ]
    },
    {
     "name": "stdout",
     "output_type": "stream",
     "text": [
      "[LightGBM] [Info] Number of positive: 28328, number of negative: 3402\n",
      "[LightGBM] [Warning] Auto-choosing row-wise multi-threading, the overhead of testing was 0.001814 seconds.\n",
      "You can set `force_row_wise=true` to remove the overhead.\n",
      "And if memory is not enough, you can set `force_col_wise=true`.\n",
      "[LightGBM] [Info] Total Bins 4895\n",
      "[LightGBM] [Info] Number of data points in the train set: 31730, number of used features: 37\n",
      "[LightGBM] [Info] [binary:BoostFromScore]: pavg=0.892783 -> initscore=2.119487\n",
      "[LightGBM] [Info] Start training from score 2.119487\n"
     ]
    },
    {
     "name": "stderr",
     "output_type": "stream",
     "text": [
      "\n",
      "\n",
      "regularization_factors, val_score: 0.784776:  95%|#########5| 19/20 [00:15<00:00,  1.37it/s]\u001b[A\u001b[A\n",
      "\n",
      "regularization_factors, val_score: 0.784776: 100%|##########| 20/20 [00:15<00:00,  1.38it/s]\u001b[A\u001b[A[I 2024-02-10 17:03:56,359] Trial 59 finished with value: 0.7846124062544977 and parameters: {'lambda_l1': 8.331824448738082e-06, 'lambda_l2': 0.004698937948122775}. Best is trial 57 with value: 0.7847755107208603.\n",
      "regularization_factors, val_score: 0.784776: 100%|##########| 20/20 [00:15<00:00,  1.29it/s]\n",
      "\n",
      "\n",
      "  0%|          | 0/5 [00:00<?, ?it/s]\u001b[A\u001b[A\n",
      "\n",
      "min_child_samples, val_score: 0.784776:   0%|          | 0/5 [00:00<?, ?it/s]\u001b[A\u001b[A"
     ]
    },
    {
     "name": "stdout",
     "output_type": "stream",
     "text": [
      "[LightGBM] [Info] Number of positive: 28328, number of negative: 3402\n",
      "[LightGBM] [Warning] Auto-choosing row-wise multi-threading, the overhead of testing was 0.001833 seconds.\n",
      "You can set `force_row_wise=true` to remove the overhead.\n",
      "And if memory is not enough, you can set `force_col_wise=true`.\n",
      "[LightGBM] [Info] Total Bins 4895\n",
      "[LightGBM] [Info] Number of data points in the train set: 31730, number of used features: 37\n",
      "[LightGBM] [Info] [binary:BoostFromScore]: pavg=0.892783 -> initscore=2.119487\n",
      "[LightGBM] [Info] Start training from score 2.119487\n"
     ]
    },
    {
     "name": "stderr",
     "output_type": "stream",
     "text": [
      "\n",
      "\n",
      "min_child_samples, val_score: 0.784776:   0%|          | 0/5 [00:00<?, ?it/s]\u001b[A\u001b[A\n",
      "\n",
      "min_child_samples, val_score: 0.784776:  20%|##        | 1/5 [00:00<00:02,  1.48it/s]\u001b[A\u001b[A[I 2024-02-10 17:03:57,045] Trial 60 finished with value: 0.783126079566306 and parameters: {'min_child_samples': 5}. Best is trial 60 with value: 0.783126079566306.\n",
      "\n",
      "\n",
      "min_child_samples, val_score: 0.784776:  20%|##        | 1/5 [00:00<00:02,  1.48it/s]\u001b[A\u001b[A"
     ]
    },
    {
     "name": "stdout",
     "output_type": "stream",
     "text": [
      "[LightGBM] [Info] Number of positive: 28328, number of negative: 3402\n",
      "[LightGBM] [Warning] Auto-choosing row-wise multi-threading, the overhead of testing was 0.001735 seconds.\n",
      "You can set `force_row_wise=true` to remove the overhead.\n",
      "And if memory is not enough, you can set `force_col_wise=true`.\n",
      "[LightGBM] [Info] Total Bins 4895\n",
      "[LightGBM] [Info] Number of data points in the train set: 31730, number of used features: 37\n",
      "[LightGBM] [Info] [binary:BoostFromScore]: pavg=0.892783 -> initscore=2.119487\n",
      "[LightGBM] [Info] Start training from score 2.119487\n"
     ]
    },
    {
     "name": "stderr",
     "output_type": "stream",
     "text": [
      "\n",
      "\n",
      "min_child_samples, val_score: 0.784776:  20%|##        | 1/5 [00:01<00:02,  1.48it/s]\u001b[A\u001b[A\n",
      "\n",
      "min_child_samples, val_score: 0.784776:  40%|####      | 2/5 [00:01<00:01,  1.53it/s]\u001b[A\u001b[A[I 2024-02-10 17:03:57,697] Trial 61 finished with value: 0.78209708774741 and parameters: {'min_child_samples': 10}. Best is trial 60 with value: 0.783126079566306.\n",
      "\n",
      "\n",
      "min_child_samples, val_score: 0.784776:  40%|####      | 2/5 [00:01<00:01,  1.53it/s]\u001b[A\u001b[A"
     ]
    },
    {
     "name": "stdout",
     "output_type": "stream",
     "text": [
      "[LightGBM] [Info] Number of positive: 28328, number of negative: 3402\n",
      "[LightGBM] [Warning] Auto-choosing col-wise multi-threading, the overhead of testing was 0.004985 seconds.\n",
      "You can set `force_col_wise=true` to remove the overhead.\n",
      "[LightGBM] [Info] Total Bins 4895\n",
      "[LightGBM] [Info] Number of data points in the train set: 31730, number of used features: 37\n",
      "[LightGBM] [Info] [binary:BoostFromScore]: pavg=0.892783 -> initscore=2.119487\n",
      "[LightGBM] [Info] Start training from score 2.119487\n"
     ]
    },
    {
     "name": "stderr",
     "output_type": "stream",
     "text": [
      "\n",
      "\n",
      "min_child_samples, val_score: 0.784776:  40%|####      | 2/5 [00:01<00:01,  1.53it/s]\u001b[A\u001b[A\n",
      "\n",
      "min_child_samples, val_score: 0.784776:  60%|######    | 3/5 [00:01<00:01,  1.54it/s]\u001b[A\u001b[A[I 2024-02-10 17:03:58,324] Trial 62 finished with value: 0.7844112254600859 and parameters: {'min_child_samples': 25}. Best is trial 62 with value: 0.7844112254600859.\n",
      "\n",
      "\n",
      "min_child_samples, val_score: 0.784776:  60%|######    | 3/5 [00:01<00:01,  1.54it/s]\u001b[A\u001b[A"
     ]
    },
    {
     "name": "stdout",
     "output_type": "stream",
     "text": [
      "[LightGBM] [Info] Number of positive: 28328, number of negative: 3402\n",
      "[LightGBM] [Warning] Auto-choosing col-wise multi-threading, the overhead of testing was 0.004932 seconds.\n",
      "You can set `force_col_wise=true` to remove the overhead.\n",
      "[LightGBM] [Info] Total Bins 4895\n",
      "[LightGBM] [Info] Number of data points in the train set: 31730, number of used features: 37\n",
      "[LightGBM] [Info] [binary:BoostFromScore]: pavg=0.892783 -> initscore=2.119487\n",
      "[LightGBM] [Info] Start training from score 2.119487\n"
     ]
    },
    {
     "name": "stderr",
     "output_type": "stream",
     "text": [
      "\n",
      "\n",
      "min_child_samples, val_score: 0.784776:  60%|######    | 3/5 [00:02<00:01,  1.54it/s]\u001b[A\u001b[A\n",
      "\n",
      "min_child_samples, val_score: 0.784776:  80%|########  | 4/5 [00:02<00:00,  1.52it/s]\u001b[A\u001b[A[I 2024-02-10 17:03:59,011] Trial 63 finished with value: 0.7845732127725693 and parameters: {'min_child_samples': 50}. Best is trial 63 with value: 0.7845732127725693.\n",
      "\n",
      "\n",
      "min_child_samples, val_score: 0.784776:  80%|########  | 4/5 [00:02<00:00,  1.52it/s]\u001b[A\u001b[A"
     ]
    },
    {
     "name": "stdout",
     "output_type": "stream",
     "text": [
      "[LightGBM] [Info] Number of positive: 28328, number of negative: 3402\n",
      "[LightGBM] [Warning] Auto-choosing row-wise multi-threading, the overhead of testing was 0.001616 seconds.\n",
      "You can set `force_row_wise=true` to remove the overhead.\n",
      "And if memory is not enough, you can set `force_col_wise=true`.\n",
      "[LightGBM] [Info] Total Bins 4895\n",
      "[LightGBM] [Info] Number of data points in the train set: 31730, number of used features: 37\n",
      "[LightGBM] [Info] [binary:BoostFromScore]: pavg=0.892783 -> initscore=2.119487\n",
      "[LightGBM] [Info] Start training from score 2.119487\n"
     ]
    },
    {
     "name": "stderr",
     "output_type": "stream",
     "text": [
      "\n",
      "\n",
      "min_child_samples, val_score: 0.786175:  80%|########  | 4/5 [00:03<00:00,  1.52it/s]\u001b[A\u001b[A\n",
      "\n",
      "min_child_samples, val_score: 0.786175: 100%|##########| 5/5 [00:03<00:00,  1.51it/s]\u001b[A\u001b[A[I 2024-02-10 17:03:59,667] Trial 64 finished with value: 0.7861749786949446 and parameters: {'min_child_samples': 100}. Best is trial 64 with value: 0.7861749786949446.\n",
      "min_child_samples, val_score: 0.786175: 100%|##########| 5/5 [00:03<00:00,  1.51it/s]"
     ]
    },
    {
     "name": "stdout",
     "output_type": "stream",
     "text": [
      "accuracy_score: 0.8772808925026\n",
      "mean_f1_score: 0.6821897303984207\n"
     ]
    },
    {
     "name": "stderr",
     "output_type": "stream",
     "text": [
      "\n"
     ]
    }
   ],
   "source": [
    "test_pred, lgb_model = test_submission(prepro_train_x, prepro_train_y, judge_pred=0.795)"
   ]
  },
  {
   "cell_type": "code",
   "execution_count": 126,
   "id": "c8f117bc-c1fe-45ad-af7b-e0f671eb10ba",
   "metadata": {
    "tags": []
   },
   "outputs": [],
   "source": [
    "# 提出用\n",
    "submission_df = pd.read_csv(\"sample_submission.csv\", header=None)\n",
    "submission_df[1] = test_pred\n",
    "submission_df.to_csv(\"submission_ver_04.csv\", index=None, header=None)"
   ]
  },
  {
   "cell_type": "code",
   "execution_count": 127,
   "id": "86faf230-ce2f-4fbc-bb3d-bba5939720f6",
   "metadata": {
    "tags": []
   },
   "outputs": [
    {
     "data": {
      "text/plain": [
       "(1    37856\n",
       " 0     4452\n",
       " Name: 1, dtype: int64,\n",
       " 1    37767\n",
       " 0     4540\n",
       " Name: MIS_Status, dtype: int64)"
      ]
     },
     "execution_count": 127,
     "metadata": {},
     "output_type": "execute_result"
    }
   ],
   "source": [
    "submission_df[1].value_counts(), train_df[\"MIS_Status\"].value_counts()"
   ]
  },
  {
   "cell_type": "code",
   "execution_count": 128,
   "id": "b84aa130-aa11-4346-b7da-6664edcad43b",
   "metadata": {
    "tags": []
   },
   "outputs": [
    {
     "data": {
      "text/plain": [
       "<Axes: title={'center': 'Feature importance'}, xlabel='Feature importance', ylabel='Features'>"
      ]
     },
     "execution_count": 128,
     "metadata": {},
     "output_type": "execute_result"
    },
    {
     "data": {
      "image/png": "[encoded data removed]",
      "text/plain": [
       "<Figure size 800x400 with 1 Axes>"
      ]
     },
     "metadata": {},
     "output_type": "display_data"
    }
   ],
   "source": [
    "lgb.plot_importance(lgb_model, figsize=(8,4), max_num_features=30, importance_type='gain')"
   ]
  },
  {
   "cell_type": "code",
   "execution_count": 129,
   "id": "aabd9e11-b773-4c6b-83de-4572db32638d",
   "metadata": {
    "tags": []
   },
   "outputs": [
    {
     "data": {
      "text/plain": [
       "0    24037\n",
       "1    11759\n",
       "2     6511\n",
       "Name: UrbanRural, dtype: int64"
      ]
     },
     "execution_count": 129,
     "metadata": {},
     "output_type": "execute_result"
    }
   ],
   "source": [
    "train_df[\"UrbanRural\"].value_counts()"
   ]
  },
  {
   "cell_type": "code",
   "execution_count": null,
   "id": "b47dad93-4229-4f3c-ab25-5adca9dda022",
   "metadata": {},
   "outputs": [],
   "source": []
  }
 ],
 "metadata": {
  "kernelspec": {
   "display_name": "Python 3 (ipykernel)",
   "language": "python",
   "name": "python3"
  },
  "language_info": {
   "codemirror_mode": {
    "name": "ipython",
    "version": 3
   },
   "file_extension": ".py",
   "mimetype": "text/x-python",
   "name": "python",
   "nbconvert_exporter": "python",
   "pygments_lexer": "ipython3",
   "version": "3.11.4"
  }
 },
 "nbformat": 4,
 "nbformat_minor": 5
}
